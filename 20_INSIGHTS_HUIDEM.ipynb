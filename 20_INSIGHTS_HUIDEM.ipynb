{
 "cells": [
  {
   "cell_type": "markdown",
   "id": "591ee7b6-0aa2-4167-b243-23ea085a257b",
   "metadata": {},
   "source": [
    "<h2>1. Importing Necessary Libraries</h2>"
   ]
  },
  {
   "cell_type": "code",
   "execution_count": 1,
   "id": "1e46f443-4c18-4b1f-b9a7-0adfe0f0e551",
   "metadata": {},
   "outputs": [],
   "source": [
    "import numpy as np\n",
    "import pandas as pd\n",
    "import warnings\n",
    "warnings.filterwarnings('ignore')\n",
    "import matplotlib.pyplot as plt"
   ]
  },
  {
   "cell_type": "markdown",
   "id": "571070b0-0860-451c-a1b7-f5bcbb3d6c14",
   "metadata": {},
   "source": [
    "<h2>2. Coverting data set to data frame</h2>"
   ]
  },
  {
   "cell_type": "code",
   "execution_count": 2,
   "id": "df14981c-0e3b-4a5e-8570-ee9d8251b26b",
   "metadata": {},
   "outputs": [],
   "source": [
    "accidents = pd.read_csv('datasets\\\\uk_road_accident.csv')"
   ]
  },
  {
   "cell_type": "markdown",
   "id": "8eff4f19-2e02-4d94-81f4-d4e4c6533694",
   "metadata": {},
   "source": [
    "<h2>3. Check Dataframe Information</h2>"
   ]
  },
  {
   "cell_type": "code",
   "execution_count": 3,
   "id": "dc397762-683f-4921-a9de-ee21066ddfe0",
   "metadata": {},
   "outputs": [
    {
     "data": {
      "text/html": [
       "<div>\n",
       "<style scoped>\n",
       "    .dataframe tbody tr th:only-of-type {\n",
       "        vertical-align: middle;\n",
       "    }\n",
       "\n",
       "    .dataframe tbody tr th {\n",
       "        vertical-align: top;\n",
       "    }\n",
       "\n",
       "    .dataframe thead th {\n",
       "        text-align: right;\n",
       "    }\n",
       "</style>\n",
       "<table border=\"1\" class=\"dataframe\">\n",
       "  <thead>\n",
       "    <tr style=\"text-align: right;\">\n",
       "      <th></th>\n",
       "      <th>Index</th>\n",
       "      <th>Accident_Severity</th>\n",
       "      <th>Accident Date</th>\n",
       "      <th>Latitude</th>\n",
       "      <th>Light_Conditions</th>\n",
       "      <th>District Area</th>\n",
       "      <th>Longitude</th>\n",
       "      <th>Number_of_Casualties</th>\n",
       "      <th>Number_of_Vehicles</th>\n",
       "      <th>Road_Surface_Conditions</th>\n",
       "      <th>Road_Type</th>\n",
       "      <th>Urban_or_Rural_Area</th>\n",
       "      <th>Weather_Conditions</th>\n",
       "      <th>Vehicle_Type</th>\n",
       "    </tr>\n",
       "  </thead>\n",
       "  <tbody>\n",
       "    <tr>\n",
       "      <th>0</th>\n",
       "      <td>200701BS64157</td>\n",
       "      <td>Serious</td>\n",
       "      <td>5/6/2019</td>\n",
       "      <td>51.506187</td>\n",
       "      <td>Darkness - lights lit</td>\n",
       "      <td>Kensington and Chelsea</td>\n",
       "      <td>-0.209082</td>\n",
       "      <td>1</td>\n",
       "      <td>2</td>\n",
       "      <td>Dry</td>\n",
       "      <td>Single carriageway</td>\n",
       "      <td>Urban</td>\n",
       "      <td>Fine no high winds</td>\n",
       "      <td>Car</td>\n",
       "    </tr>\n",
       "    <tr>\n",
       "      <th>1</th>\n",
       "      <td>200701BS65737</td>\n",
       "      <td>Serious</td>\n",
       "      <td>2/7/2019</td>\n",
       "      <td>51.495029</td>\n",
       "      <td>Daylight</td>\n",
       "      <td>Kensington and Chelsea</td>\n",
       "      <td>-0.173647</td>\n",
       "      <td>1</td>\n",
       "      <td>2</td>\n",
       "      <td>Wet or damp</td>\n",
       "      <td>Single carriageway</td>\n",
       "      <td>Urban</td>\n",
       "      <td>Raining no high winds</td>\n",
       "      <td>Car</td>\n",
       "    </tr>\n",
       "    <tr>\n",
       "      <th>2</th>\n",
       "      <td>200701BS66127</td>\n",
       "      <td>Serious</td>\n",
       "      <td>26-08-2019</td>\n",
       "      <td>51.517715</td>\n",
       "      <td>Darkness - lighting unknown</td>\n",
       "      <td>Kensington and Chelsea</td>\n",
       "      <td>-0.210215</td>\n",
       "      <td>1</td>\n",
       "      <td>3</td>\n",
       "      <td>Dry</td>\n",
       "      <td>NaN</td>\n",
       "      <td>Urban</td>\n",
       "      <td>NaN</td>\n",
       "      <td>Taxi/Private hire car</td>\n",
       "    </tr>\n",
       "    <tr>\n",
       "      <th>3</th>\n",
       "      <td>200701BS66128</td>\n",
       "      <td>Serious</td>\n",
       "      <td>16-08-2019</td>\n",
       "      <td>51.495478</td>\n",
       "      <td>Daylight</td>\n",
       "      <td>Kensington and Chelsea</td>\n",
       "      <td>-0.202731</td>\n",
       "      <td>1</td>\n",
       "      <td>4</td>\n",
       "      <td>Dry</td>\n",
       "      <td>Single carriageway</td>\n",
       "      <td>Urban</td>\n",
       "      <td>Fine no high winds</td>\n",
       "      <td>Bus or coach (17 or more pass seats)</td>\n",
       "    </tr>\n",
       "    <tr>\n",
       "      <th>4</th>\n",
       "      <td>200701BS66837</td>\n",
       "      <td>Slight</td>\n",
       "      <td>3/9/2019</td>\n",
       "      <td>51.488576</td>\n",
       "      <td>Darkness - lights lit</td>\n",
       "      <td>Kensington and Chelsea</td>\n",
       "      <td>-0.192487</td>\n",
       "      <td>1</td>\n",
       "      <td>2</td>\n",
       "      <td>Dry</td>\n",
       "      <td>NaN</td>\n",
       "      <td>Urban</td>\n",
       "      <td>NaN</td>\n",
       "      <td>Other vehicle</td>\n",
       "    </tr>\n",
       "    <tr>\n",
       "      <th>...</th>\n",
       "      <td>...</td>\n",
       "      <td>...</td>\n",
       "      <td>...</td>\n",
       "      <td>...</td>\n",
       "      <td>...</td>\n",
       "      <td>...</td>\n",
       "      <td>...</td>\n",
       "      <td>...</td>\n",
       "      <td>...</td>\n",
       "      <td>...</td>\n",
       "      <td>...</td>\n",
       "      <td>...</td>\n",
       "      <td>...</td>\n",
       "      <td>...</td>\n",
       "    </tr>\n",
       "    <tr>\n",
       "      <th>660674</th>\n",
       "      <td>201091NM01760</td>\n",
       "      <td>Slight</td>\n",
       "      <td>18-02-2022</td>\n",
       "      <td>57.374005</td>\n",
       "      <td>Daylight</td>\n",
       "      <td>Highland</td>\n",
       "      <td>-3.467828</td>\n",
       "      <td>2</td>\n",
       "      <td>1</td>\n",
       "      <td>Dry</td>\n",
       "      <td>Single carriageway</td>\n",
       "      <td>Rural</td>\n",
       "      <td>Fine no high winds</td>\n",
       "      <td>Car</td>\n",
       "    </tr>\n",
       "    <tr>\n",
       "      <th>660675</th>\n",
       "      <td>201091NM01881</td>\n",
       "      <td>Slight</td>\n",
       "      <td>21-02-2022</td>\n",
       "      <td>57.232273</td>\n",
       "      <td>Darkness - no lighting</td>\n",
       "      <td>Highland</td>\n",
       "      <td>-3.809281</td>\n",
       "      <td>1</td>\n",
       "      <td>1</td>\n",
       "      <td>Frost or ice</td>\n",
       "      <td>Single carriageway</td>\n",
       "      <td>Rural</td>\n",
       "      <td>Fine no high winds</td>\n",
       "      <td>Car</td>\n",
       "    </tr>\n",
       "    <tr>\n",
       "      <th>660676</th>\n",
       "      <td>201091NM01935</td>\n",
       "      <td>Slight</td>\n",
       "      <td>23-02-2022</td>\n",
       "      <td>57.585044</td>\n",
       "      <td>Daylight</td>\n",
       "      <td>Highland</td>\n",
       "      <td>-3.862727</td>\n",
       "      <td>1</td>\n",
       "      <td>3</td>\n",
       "      <td>Frost or ice</td>\n",
       "      <td>Single carriageway</td>\n",
       "      <td>Rural</td>\n",
       "      <td>Fine no high winds</td>\n",
       "      <td>Car</td>\n",
       "    </tr>\n",
       "    <tr>\n",
       "      <th>660677</th>\n",
       "      <td>201091NM01964</td>\n",
       "      <td>Serious</td>\n",
       "      <td>23-02-2022</td>\n",
       "      <td>57.214898</td>\n",
       "      <td>Darkness - no lighting</td>\n",
       "      <td>Highland</td>\n",
       "      <td>-3.823997</td>\n",
       "      <td>1</td>\n",
       "      <td>2</td>\n",
       "      <td>Wet or damp</td>\n",
       "      <td>Single carriageway</td>\n",
       "      <td>Rural</td>\n",
       "      <td>Fine no high winds</td>\n",
       "      <td>Motorcycle over 500cc</td>\n",
       "    </tr>\n",
       "    <tr>\n",
       "      <th>660678</th>\n",
       "      <td>201091NM02142</td>\n",
       "      <td>Serious</td>\n",
       "      <td>28-02-2022</td>\n",
       "      <td>57.575210</td>\n",
       "      <td>Daylight</td>\n",
       "      <td>Highland</td>\n",
       "      <td>-3.895673</td>\n",
       "      <td>1</td>\n",
       "      <td>1</td>\n",
       "      <td>Wet or damp</td>\n",
       "      <td>Dual carriageway</td>\n",
       "      <td>Rural</td>\n",
       "      <td>Snowing no high winds</td>\n",
       "      <td>Car</td>\n",
       "    </tr>\n",
       "  </tbody>\n",
       "</table>\n",
       "<p>660679 rows × 14 columns</p>\n",
       "</div>"
      ],
      "text/plain": [
       "                Index Accident_Severity Accident Date   Latitude  \\\n",
       "0       200701BS64157           Serious      5/6/2019  51.506187   \n",
       "1       200701BS65737           Serious      2/7/2019  51.495029   \n",
       "2       200701BS66127           Serious    26-08-2019  51.517715   \n",
       "3       200701BS66128           Serious    16-08-2019  51.495478   \n",
       "4       200701BS66837            Slight      3/9/2019  51.488576   \n",
       "...               ...               ...           ...        ...   \n",
       "660674  201091NM01760            Slight    18-02-2022  57.374005   \n",
       "660675  201091NM01881            Slight    21-02-2022  57.232273   \n",
       "660676  201091NM01935            Slight    23-02-2022  57.585044   \n",
       "660677  201091NM01964           Serious    23-02-2022  57.214898   \n",
       "660678  201091NM02142           Serious    28-02-2022  57.575210   \n",
       "\n",
       "                   Light_Conditions           District Area  Longitude  \\\n",
       "0             Darkness - lights lit  Kensington and Chelsea  -0.209082   \n",
       "1                          Daylight  Kensington and Chelsea  -0.173647   \n",
       "2       Darkness - lighting unknown  Kensington and Chelsea  -0.210215   \n",
       "3                          Daylight  Kensington and Chelsea  -0.202731   \n",
       "4             Darkness - lights lit  Kensington and Chelsea  -0.192487   \n",
       "...                             ...                     ...        ...   \n",
       "660674                     Daylight                Highland  -3.467828   \n",
       "660675       Darkness - no lighting                Highland  -3.809281   \n",
       "660676                     Daylight                Highland  -3.862727   \n",
       "660677       Darkness - no lighting                Highland  -3.823997   \n",
       "660678                     Daylight                Highland  -3.895673   \n",
       "\n",
       "        Number_of_Casualties  Number_of_Vehicles Road_Surface_Conditions  \\\n",
       "0                          1                   2                     Dry   \n",
       "1                          1                   2             Wet or damp   \n",
       "2                          1                   3                     Dry   \n",
       "3                          1                   4                     Dry   \n",
       "4                          1                   2                     Dry   \n",
       "...                      ...                 ...                     ...   \n",
       "660674                     2                   1                     Dry   \n",
       "660675                     1                   1            Frost or ice   \n",
       "660676                     1                   3            Frost or ice   \n",
       "660677                     1                   2             Wet or damp   \n",
       "660678                     1                   1             Wet or damp   \n",
       "\n",
       "                 Road_Type Urban_or_Rural_Area     Weather_Conditions  \\\n",
       "0       Single carriageway               Urban     Fine no high winds   \n",
       "1       Single carriageway               Urban  Raining no high winds   \n",
       "2                      NaN               Urban                    NaN   \n",
       "3       Single carriageway               Urban     Fine no high winds   \n",
       "4                      NaN               Urban                    NaN   \n",
       "...                    ...                 ...                    ...   \n",
       "660674  Single carriageway               Rural     Fine no high winds   \n",
       "660675  Single carriageway               Rural     Fine no high winds   \n",
       "660676  Single carriageway               Rural     Fine no high winds   \n",
       "660677  Single carriageway               Rural     Fine no high winds   \n",
       "660678    Dual carriageway               Rural  Snowing no high winds   \n",
       "\n",
       "                                Vehicle_Type  \n",
       "0                                        Car  \n",
       "1                                        Car  \n",
       "2                      Taxi/Private hire car  \n",
       "3       Bus or coach (17 or more pass seats)  \n",
       "4                              Other vehicle  \n",
       "...                                      ...  \n",
       "660674                                   Car  \n",
       "660675                                   Car  \n",
       "660676                                   Car  \n",
       "660677                 Motorcycle over 500cc  \n",
       "660678                                   Car  \n",
       "\n",
       "[660679 rows x 14 columns]"
      ]
     },
     "execution_count": 3,
     "metadata": {},
     "output_type": "execute_result"
    }
   ],
   "source": [
    "accidents"
   ]
  },
  {
   "cell_type": "markdown",
   "id": "fe3a5cd2-55bd-46d6-aa7a-e75a9923426d",
   "metadata": {},
   "source": [
    "<h2>4. Check Discriptive Statistics</h2>"
   ]
  },
  {
   "cell_type": "code",
   "execution_count": 4,
   "id": "b2a1bd17-44fb-41f4-abe5-da1f3eaa5413",
   "metadata": {},
   "outputs": [
    {
     "data": {
      "text/html": [
       "<div>\n",
       "<style scoped>\n",
       "    .dataframe tbody tr th:only-of-type {\n",
       "        vertical-align: middle;\n",
       "    }\n",
       "\n",
       "    .dataframe tbody tr th {\n",
       "        vertical-align: top;\n",
       "    }\n",
       "\n",
       "    .dataframe thead th {\n",
       "        text-align: right;\n",
       "    }\n",
       "</style>\n",
       "<table border=\"1\" class=\"dataframe\">\n",
       "  <thead>\n",
       "    <tr style=\"text-align: right;\">\n",
       "      <th></th>\n",
       "      <th>Latitude</th>\n",
       "      <th>Longitude</th>\n",
       "      <th>Number_of_Casualties</th>\n",
       "      <th>Number_of_Vehicles</th>\n",
       "    </tr>\n",
       "  </thead>\n",
       "  <tbody>\n",
       "    <tr>\n",
       "      <th>count</th>\n",
       "      <td>660654.000000</td>\n",
       "      <td>660653.000000</td>\n",
       "      <td>660679.000000</td>\n",
       "      <td>660679.000000</td>\n",
       "    </tr>\n",
       "    <tr>\n",
       "      <th>mean</th>\n",
       "      <td>52.553866</td>\n",
       "      <td>-1.431210</td>\n",
       "      <td>1.357040</td>\n",
       "      <td>1.831255</td>\n",
       "    </tr>\n",
       "    <tr>\n",
       "      <th>std</th>\n",
       "      <td>1.406922</td>\n",
       "      <td>1.383330</td>\n",
       "      <td>0.824847</td>\n",
       "      <td>0.715269</td>\n",
       "    </tr>\n",
       "    <tr>\n",
       "      <th>min</th>\n",
       "      <td>49.914430</td>\n",
       "      <td>-7.516225</td>\n",
       "      <td>1.000000</td>\n",
       "      <td>1.000000</td>\n",
       "    </tr>\n",
       "    <tr>\n",
       "      <th>25%</th>\n",
       "      <td>51.490690</td>\n",
       "      <td>-2.332291</td>\n",
       "      <td>1.000000</td>\n",
       "      <td>1.000000</td>\n",
       "    </tr>\n",
       "    <tr>\n",
       "      <th>50%</th>\n",
       "      <td>52.315641</td>\n",
       "      <td>-1.411667</td>\n",
       "      <td>1.000000</td>\n",
       "      <td>2.000000</td>\n",
       "    </tr>\n",
       "    <tr>\n",
       "      <th>75%</th>\n",
       "      <td>53.453452</td>\n",
       "      <td>-0.232869</td>\n",
       "      <td>1.000000</td>\n",
       "      <td>2.000000</td>\n",
       "    </tr>\n",
       "    <tr>\n",
       "      <th>max</th>\n",
       "      <td>60.757544</td>\n",
       "      <td>1.762010</td>\n",
       "      <td>68.000000</td>\n",
       "      <td>32.000000</td>\n",
       "    </tr>\n",
       "  </tbody>\n",
       "</table>\n",
       "</div>"
      ],
      "text/plain": [
       "            Latitude      Longitude  Number_of_Casualties  Number_of_Vehicles\n",
       "count  660654.000000  660653.000000         660679.000000       660679.000000\n",
       "mean       52.553866      -1.431210              1.357040            1.831255\n",
       "std         1.406922       1.383330              0.824847            0.715269\n",
       "min        49.914430      -7.516225              1.000000            1.000000\n",
       "25%        51.490690      -2.332291              1.000000            1.000000\n",
       "50%        52.315641      -1.411667              1.000000            2.000000\n",
       "75%        53.453452      -0.232869              1.000000            2.000000\n",
       "max        60.757544       1.762010             68.000000           32.000000"
      ]
     },
     "execution_count": 4,
     "metadata": {},
     "output_type": "execute_result"
    }
   ],
   "source": [
    "accidents.describe()"
   ]
  },
  {
   "cell_type": "code",
   "execution_count": 5,
   "id": "7b721ab7-aeb1-4636-82c1-9835972ec9a8",
   "metadata": {},
   "outputs": [
    {
     "data": {
      "text/html": [
       "<div>\n",
       "<style scoped>\n",
       "    .dataframe tbody tr th:only-of-type {\n",
       "        vertical-align: middle;\n",
       "    }\n",
       "\n",
       "    .dataframe tbody tr th {\n",
       "        vertical-align: top;\n",
       "    }\n",
       "\n",
       "    .dataframe thead th {\n",
       "        text-align: right;\n",
       "    }\n",
       "</style>\n",
       "<table border=\"1\" class=\"dataframe\">\n",
       "  <thead>\n",
       "    <tr style=\"text-align: right;\">\n",
       "      <th></th>\n",
       "      <th>count</th>\n",
       "      <th>mean</th>\n",
       "      <th>std</th>\n",
       "      <th>min</th>\n",
       "      <th>25%</th>\n",
       "      <th>50%</th>\n",
       "      <th>75%</th>\n",
       "      <th>max</th>\n",
       "    </tr>\n",
       "  </thead>\n",
       "  <tbody>\n",
       "    <tr>\n",
       "      <th>Latitude</th>\n",
       "      <td>660654.0</td>\n",
       "      <td>52.553866</td>\n",
       "      <td>1.406922</td>\n",
       "      <td>49.914430</td>\n",
       "      <td>51.490690</td>\n",
       "      <td>52.315641</td>\n",
       "      <td>53.453452</td>\n",
       "      <td>60.757544</td>\n",
       "    </tr>\n",
       "    <tr>\n",
       "      <th>Longitude</th>\n",
       "      <td>660653.0</td>\n",
       "      <td>-1.431210</td>\n",
       "      <td>1.383330</td>\n",
       "      <td>-7.516225</td>\n",
       "      <td>-2.332291</td>\n",
       "      <td>-1.411667</td>\n",
       "      <td>-0.232869</td>\n",
       "      <td>1.762010</td>\n",
       "    </tr>\n",
       "    <tr>\n",
       "      <th>Number_of_Casualties</th>\n",
       "      <td>660679.0</td>\n",
       "      <td>1.357040</td>\n",
       "      <td>0.824847</td>\n",
       "      <td>1.000000</td>\n",
       "      <td>1.000000</td>\n",
       "      <td>1.000000</td>\n",
       "      <td>1.000000</td>\n",
       "      <td>68.000000</td>\n",
       "    </tr>\n",
       "    <tr>\n",
       "      <th>Number_of_Vehicles</th>\n",
       "      <td>660679.0</td>\n",
       "      <td>1.831255</td>\n",
       "      <td>0.715269</td>\n",
       "      <td>1.000000</td>\n",
       "      <td>1.000000</td>\n",
       "      <td>2.000000</td>\n",
       "      <td>2.000000</td>\n",
       "      <td>32.000000</td>\n",
       "    </tr>\n",
       "  </tbody>\n",
       "</table>\n",
       "</div>"
      ],
      "text/plain": [
       "                         count       mean       std        min        25%  \\\n",
       "Latitude              660654.0  52.553866  1.406922  49.914430  51.490690   \n",
       "Longitude             660653.0  -1.431210  1.383330  -7.516225  -2.332291   \n",
       "Number_of_Casualties  660679.0   1.357040  0.824847   1.000000   1.000000   \n",
       "Number_of_Vehicles    660679.0   1.831255  0.715269   1.000000   1.000000   \n",
       "\n",
       "                            50%        75%        max  \n",
       "Latitude              52.315641  53.453452  60.757544  \n",
       "Longitude             -1.411667  -0.232869   1.762010  \n",
       "Number_of_Casualties   1.000000   1.000000  68.000000  \n",
       "Number_of_Vehicles     2.000000   2.000000  32.000000  "
      ]
     },
     "execution_count": 5,
     "metadata": {},
     "output_type": "execute_result"
    }
   ],
   "source": [
    "accidents.describe().T"
   ]
  },
  {
   "cell_type": "markdown",
   "id": "6f9a5b80-c493-4305-b528-7ee7d0ea5196",
   "metadata": {},
   "source": [
    "<h2>5. Call Each Column Individually</h2>"
   ]
  },
  {
   "cell_type": "code",
   "execution_count": 6,
   "id": "91e5998f-1aa4-4997-b654-28b3deabcc7b",
   "metadata": {},
   "outputs": [
    {
     "data": {
      "text/plain": [
       "0         200701BS64157\n",
       "1         200701BS65737\n",
       "2         200701BS66127\n",
       "3         200701BS66128\n",
       "4         200701BS66837\n",
       "              ...      \n",
       "660674    201091NM01760\n",
       "660675    201091NM01881\n",
       "660676    201091NM01935\n",
       "660677    201091NM01964\n",
       "660678    201091NM02142\n",
       "Name: Index, Length: 660679, dtype: object"
      ]
     },
     "execution_count": 6,
     "metadata": {},
     "output_type": "execute_result"
    }
   ],
   "source": [
    "accidents['Index']"
   ]
  },
  {
   "cell_type": "code",
   "execution_count": 7,
   "id": "e7500158-792c-41d8-9476-38e743b956ab",
   "metadata": {},
   "outputs": [
    {
     "data": {
      "text/plain": [
       "0         Serious\n",
       "1         Serious\n",
       "2         Serious\n",
       "3         Serious\n",
       "4          Slight\n",
       "           ...   \n",
       "660674     Slight\n",
       "660675     Slight\n",
       "660676     Slight\n",
       "660677    Serious\n",
       "660678    Serious\n",
       "Name: Accident_Severity, Length: 660679, dtype: object"
      ]
     },
     "execution_count": 7,
     "metadata": {},
     "output_type": "execute_result"
    }
   ],
   "source": [
    "accidents['Accident_Severity']"
   ]
  },
  {
   "cell_type": "code",
   "execution_count": 8,
   "id": "7a1fc75e-5987-40d7-b1e8-651ed5e1be00",
   "metadata": {},
   "outputs": [
    {
     "data": {
      "text/plain": [
       "0           5/6/2019\n",
       "1           2/7/2019\n",
       "2         26-08-2019\n",
       "3         16-08-2019\n",
       "4           3/9/2019\n",
       "             ...    \n",
       "660674    18-02-2022\n",
       "660675    21-02-2022\n",
       "660676    23-02-2022\n",
       "660677    23-02-2022\n",
       "660678    28-02-2022\n",
       "Name: Accident Date, Length: 660679, dtype: object"
      ]
     },
     "execution_count": 8,
     "metadata": {},
     "output_type": "execute_result"
    }
   ],
   "source": [
    "accidents['Accident Date']"
   ]
  },
  {
   "cell_type": "code",
   "execution_count": 9,
   "id": "98a388a0-5092-44cf-9d06-4b9cdc44d0dc",
   "metadata": {},
   "outputs": [
    {
     "data": {
      "text/plain": [
       "0         51.506187\n",
       "1         51.495029\n",
       "2         51.517715\n",
       "3         51.495478\n",
       "4         51.488576\n",
       "            ...    \n",
       "660674    57.374005\n",
       "660675    57.232273\n",
       "660676    57.585044\n",
       "660677    57.214898\n",
       "660678    57.575210\n",
       "Name: Latitude, Length: 660679, dtype: float64"
      ]
     },
     "execution_count": 9,
     "metadata": {},
     "output_type": "execute_result"
    }
   ],
   "source": [
    "accidents['Latitude']"
   ]
  },
  {
   "cell_type": "code",
   "execution_count": 10,
   "id": "151be105-161a-49ed-ae51-6f2dfbd570db",
   "metadata": {},
   "outputs": [
    {
     "data": {
      "text/plain": [
       "0               Darkness - lights lit\n",
       "1                            Daylight\n",
       "2         Darkness - lighting unknown\n",
       "3                            Daylight\n",
       "4               Darkness - lights lit\n",
       "                     ...             \n",
       "660674                       Daylight\n",
       "660675         Darkness - no lighting\n",
       "660676                       Daylight\n",
       "660677         Darkness - no lighting\n",
       "660678                       Daylight\n",
       "Name: Light_Conditions, Length: 660679, dtype: object"
      ]
     },
     "execution_count": 10,
     "metadata": {},
     "output_type": "execute_result"
    }
   ],
   "source": [
    "accidents['Light_Conditions']"
   ]
  },
  {
   "cell_type": "code",
   "execution_count": 11,
   "id": "5daf402b-5bc6-41ec-988b-abcf8f148350",
   "metadata": {},
   "outputs": [
    {
     "data": {
      "text/plain": [
       "0         Kensington and Chelsea\n",
       "1         Kensington and Chelsea\n",
       "2         Kensington and Chelsea\n",
       "3         Kensington and Chelsea\n",
       "4         Kensington and Chelsea\n",
       "                   ...          \n",
       "660674                  Highland\n",
       "660675                  Highland\n",
       "660676                  Highland\n",
       "660677                  Highland\n",
       "660678                  Highland\n",
       "Name: District Area, Length: 660679, dtype: object"
      ]
     },
     "execution_count": 11,
     "metadata": {},
     "output_type": "execute_result"
    }
   ],
   "source": [
    "accidents['District Area']"
   ]
  },
  {
   "cell_type": "code",
   "execution_count": 12,
   "id": "2c293305-0366-4b4c-80d3-75b6d126e6f1",
   "metadata": {},
   "outputs": [
    {
     "data": {
      "text/plain": [
       "0        -0.209082\n",
       "1        -0.173647\n",
       "2        -0.210215\n",
       "3        -0.202731\n",
       "4        -0.192487\n",
       "            ...   \n",
       "660674   -3.467828\n",
       "660675   -3.809281\n",
       "660676   -3.862727\n",
       "660677   -3.823997\n",
       "660678   -3.895673\n",
       "Name: Longitude, Length: 660679, dtype: float64"
      ]
     },
     "execution_count": 12,
     "metadata": {},
     "output_type": "execute_result"
    }
   ],
   "source": [
    "accidents['Longitude']"
   ]
  },
  {
   "cell_type": "code",
   "execution_count": 13,
   "id": "d18cc98a-d9ed-46c8-975d-f4ad707d3368",
   "metadata": {},
   "outputs": [
    {
     "data": {
      "text/plain": [
       "0         1\n",
       "1         1\n",
       "2         1\n",
       "3         1\n",
       "4         1\n",
       "         ..\n",
       "660674    2\n",
       "660675    1\n",
       "660676    1\n",
       "660677    1\n",
       "660678    1\n",
       "Name: Number_of_Casualties, Length: 660679, dtype: int64"
      ]
     },
     "execution_count": 13,
     "metadata": {},
     "output_type": "execute_result"
    }
   ],
   "source": [
    "accidents['Number_of_Casualties']"
   ]
  },
  {
   "cell_type": "code",
   "execution_count": 14,
   "id": "f15361a2-0d8a-4525-8fb4-0d22f599a59a",
   "metadata": {},
   "outputs": [
    {
     "data": {
      "text/plain": [
       "0         2\n",
       "1         2\n",
       "2         3\n",
       "3         4\n",
       "4         2\n",
       "         ..\n",
       "660674    1\n",
       "660675    1\n",
       "660676    3\n",
       "660677    2\n",
       "660678    1\n",
       "Name: Number_of_Vehicles, Length: 660679, dtype: int64"
      ]
     },
     "execution_count": 14,
     "metadata": {},
     "output_type": "execute_result"
    }
   ],
   "source": [
    "accidents['Number_of_Vehicles']"
   ]
  },
  {
   "cell_type": "code",
   "execution_count": 15,
   "id": "46116082-8be7-4209-933f-62fd5030a9bd",
   "metadata": {},
   "outputs": [
    {
     "data": {
      "text/plain": [
       "0                  Dry\n",
       "1          Wet or damp\n",
       "2                  Dry\n",
       "3                  Dry\n",
       "4                  Dry\n",
       "              ...     \n",
       "660674             Dry\n",
       "660675    Frost or ice\n",
       "660676    Frost or ice\n",
       "660677     Wet or damp\n",
       "660678     Wet or damp\n",
       "Name: Road_Surface_Conditions, Length: 660679, dtype: object"
      ]
     },
     "execution_count": 15,
     "metadata": {},
     "output_type": "execute_result"
    }
   ],
   "source": [
    "accidents['Road_Surface_Conditions']"
   ]
  },
  {
   "cell_type": "code",
   "execution_count": 16,
   "id": "896ee1f5-f810-4c11-b0b4-412d366fe78e",
   "metadata": {},
   "outputs": [
    {
     "data": {
      "text/plain": [
       "0         Single carriageway\n",
       "1         Single carriageway\n",
       "2                        NaN\n",
       "3         Single carriageway\n",
       "4                        NaN\n",
       "                 ...        \n",
       "660674    Single carriageway\n",
       "660675    Single carriageway\n",
       "660676    Single carriageway\n",
       "660677    Single carriageway\n",
       "660678      Dual carriageway\n",
       "Name: Road_Type, Length: 660679, dtype: object"
      ]
     },
     "execution_count": 16,
     "metadata": {},
     "output_type": "execute_result"
    }
   ],
   "source": [
    "accidents['Road_Type']"
   ]
  },
  {
   "cell_type": "code",
   "execution_count": 17,
   "id": "aec37dfb-46e6-4e57-8af9-fb6631c0b97b",
   "metadata": {},
   "outputs": [
    {
     "data": {
      "text/plain": [
       "0         Urban\n",
       "1         Urban\n",
       "2         Urban\n",
       "3         Urban\n",
       "4         Urban\n",
       "          ...  \n",
       "660674    Rural\n",
       "660675    Rural\n",
       "660676    Rural\n",
       "660677    Rural\n",
       "660678    Rural\n",
       "Name: Urban_or_Rural_Area, Length: 660679, dtype: object"
      ]
     },
     "execution_count": 17,
     "metadata": {},
     "output_type": "execute_result"
    }
   ],
   "source": [
    "accidents['Urban_or_Rural_Area']"
   ]
  },
  {
   "cell_type": "code",
   "execution_count": 18,
   "id": "8d7a7cff-bbe4-4bcf-ae40-05ada7e03c1f",
   "metadata": {},
   "outputs": [
    {
     "data": {
      "text/plain": [
       "0            Fine no high winds\n",
       "1         Raining no high winds\n",
       "2                           NaN\n",
       "3            Fine no high winds\n",
       "4                           NaN\n",
       "                  ...          \n",
       "660674       Fine no high winds\n",
       "660675       Fine no high winds\n",
       "660676       Fine no high winds\n",
       "660677       Fine no high winds\n",
       "660678    Snowing no high winds\n",
       "Name: Weather_Conditions, Length: 660679, dtype: object"
      ]
     },
     "execution_count": 18,
     "metadata": {},
     "output_type": "execute_result"
    }
   ],
   "source": [
    "accidents['Weather_Conditions']"
   ]
  },
  {
   "cell_type": "code",
   "execution_count": 19,
   "id": "a086144c-e0b4-4744-b111-e4082d1229b7",
   "metadata": {},
   "outputs": [
    {
     "data": {
      "text/plain": [
       "0                                          Car\n",
       "1                                          Car\n",
       "2                        Taxi/Private hire car\n",
       "3         Bus or coach (17 or more pass seats)\n",
       "4                                Other vehicle\n",
       "                          ...                 \n",
       "660674                                     Car\n",
       "660675                                     Car\n",
       "660676                                     Car\n",
       "660677                   Motorcycle over 500cc\n",
       "660678                                     Car\n",
       "Name: Vehicle_Type, Length: 660679, dtype: object"
      ]
     },
     "execution_count": 19,
     "metadata": {},
     "output_type": "execute_result"
    }
   ],
   "source": [
    "accidents['Vehicle_Type']"
   ]
  },
  {
   "cell_type": "markdown",
   "id": "77806716-e7ec-44ba-8b32-cfa24edaafeb",
   "metadata": {},
   "source": [
    "<h2>6. Check For Null Values</h2>"
   ]
  },
  {
   "cell_type": "code",
   "execution_count": 20,
   "id": "100e81ce-c2b1-43f3-b54a-7f182ccb1da3",
   "metadata": {},
   "outputs": [
    {
     "data": {
      "text/plain": [
       "Index                          0\n",
       "Accident_Severity              0\n",
       "Accident Date                  0\n",
       "Latitude                      25\n",
       "Light_Conditions               0\n",
       "District Area                  0\n",
       "Longitude                     26\n",
       "Number_of_Casualties           0\n",
       "Number_of_Vehicles             0\n",
       "Road_Surface_Conditions      726\n",
       "Road_Type                   4520\n",
       "Urban_or_Rural_Area           15\n",
       "Weather_Conditions         14128\n",
       "Vehicle_Type                   0\n",
       "dtype: int64"
      ]
     },
     "execution_count": 20,
     "metadata": {},
     "output_type": "execute_result"
    }
   ],
   "source": [
    "accidents.isnull().sum()"
   ]
  },
  {
   "cell_type": "markdown",
   "id": "840bec6c-1301-4f6c-8730-9d3f317b0d51",
   "metadata": {},
   "source": [
    "<h2>7. Fill Null Values with statistical values</h2>"
   ]
  },
  {
   "cell_type": "code",
   "execution_count": 21,
   "id": "40cede57-f75a-4a06-8095-34974f7d7141",
   "metadata": {},
   "outputs": [],
   "source": [
    "accidents['Accident_Severity'] = accidents['Accident_Severity'].fillna(accidents['Accident_Severity'].mode()[0])\n",
    "accidents['Light_Conditions'] = accidents['Light_Conditions'].fillna(accidents['Light_Conditions'].mode()[0])\n",
    "accidents['Road_Surface_Conditions'] = accidents['Road_Surface_Conditions'].fillna(accidents['Road_Surface_Conditions'].mode()[0])\n",
    "accidents['Number_of_Casualties'] = accidents['Number_of_Casualties'].fillna(accidents['Number_of_Casualties'].median())\n",
    "accidents['Number_of_Vehicles'] = accidents['Number_of_Vehicles'].fillna(accidents['Number_of_Vehicles'].median())\n",
    "accidents['District Area'] = accidents['District Area'].fillna(accidents['District Area'].mode()[0])"
   ]
  },
  {
   "cell_type": "code",
   "execution_count": 22,
   "id": "ffa5c81e-d713-423b-a417-5d339d6a4c1d",
   "metadata": {},
   "outputs": [
    {
     "data": {
      "text/plain": [
       "Index                          0\n",
       "Accident_Severity              0\n",
       "Accident Date                  0\n",
       "Latitude                      25\n",
       "Light_Conditions               0\n",
       "District Area                  0\n",
       "Longitude                     26\n",
       "Number_of_Casualties           0\n",
       "Number_of_Vehicles             0\n",
       "Road_Surface_Conditions        0\n",
       "Road_Type                   4520\n",
       "Urban_or_Rural_Area           15\n",
       "Weather_Conditions         14128\n",
       "Vehicle_Type                   0\n",
       "dtype: int64"
      ]
     },
     "execution_count": 22,
     "metadata": {},
     "output_type": "execute_result"
    }
   ],
   "source": [
    "accidents.isnull().sum()"
   ]
  },
  {
   "cell_type": "markdown",
   "id": "26364a10-1038-42fa-bae8-a86c35d99c4c",
   "metadata": {},
   "source": [
    "<h2>8. Check Column Data Types</h2>"
   ]
  },
  {
   "cell_type": "code",
   "execution_count": 23,
   "id": "f19fb2d3-8798-43f8-bfa5-ed5c105a8c43",
   "metadata": {},
   "outputs": [
    {
     "data": {
      "text/plain": [
       "<bound method DataFrame.info of                 Index Accident_Severity Accident Date   Latitude  \\\n",
       "0       200701BS64157           Serious      5/6/2019  51.506187   \n",
       "1       200701BS65737           Serious      2/7/2019  51.495029   \n",
       "2       200701BS66127           Serious    26-08-2019  51.517715   \n",
       "3       200701BS66128           Serious    16-08-2019  51.495478   \n",
       "4       200701BS66837            Slight      3/9/2019  51.488576   \n",
       "...               ...               ...           ...        ...   \n",
       "660674  201091NM01760            Slight    18-02-2022  57.374005   \n",
       "660675  201091NM01881            Slight    21-02-2022  57.232273   \n",
       "660676  201091NM01935            Slight    23-02-2022  57.585044   \n",
       "660677  201091NM01964           Serious    23-02-2022  57.214898   \n",
       "660678  201091NM02142           Serious    28-02-2022  57.575210   \n",
       "\n",
       "                   Light_Conditions           District Area  Longitude  \\\n",
       "0             Darkness - lights lit  Kensington and Chelsea  -0.209082   \n",
       "1                          Daylight  Kensington and Chelsea  -0.173647   \n",
       "2       Darkness - lighting unknown  Kensington and Chelsea  -0.210215   \n",
       "3                          Daylight  Kensington and Chelsea  -0.202731   \n",
       "4             Darkness - lights lit  Kensington and Chelsea  -0.192487   \n",
       "...                             ...                     ...        ...   \n",
       "660674                     Daylight                Highland  -3.467828   \n",
       "660675       Darkness - no lighting                Highland  -3.809281   \n",
       "660676                     Daylight                Highland  -3.862727   \n",
       "660677       Darkness - no lighting                Highland  -3.823997   \n",
       "660678                     Daylight                Highland  -3.895673   \n",
       "\n",
       "        Number_of_Casualties  Number_of_Vehicles Road_Surface_Conditions  \\\n",
       "0                          1                   2                     Dry   \n",
       "1                          1                   2             Wet or damp   \n",
       "2                          1                   3                     Dry   \n",
       "3                          1                   4                     Dry   \n",
       "4                          1                   2                     Dry   \n",
       "...                      ...                 ...                     ...   \n",
       "660674                     2                   1                     Dry   \n",
       "660675                     1                   1            Frost or ice   \n",
       "660676                     1                   3            Frost or ice   \n",
       "660677                     1                   2             Wet or damp   \n",
       "660678                     1                   1             Wet or damp   \n",
       "\n",
       "                 Road_Type Urban_or_Rural_Area     Weather_Conditions  \\\n",
       "0       Single carriageway               Urban     Fine no high winds   \n",
       "1       Single carriageway               Urban  Raining no high winds   \n",
       "2                      NaN               Urban                    NaN   \n",
       "3       Single carriageway               Urban     Fine no high winds   \n",
       "4                      NaN               Urban                    NaN   \n",
       "...                    ...                 ...                    ...   \n",
       "660674  Single carriageway               Rural     Fine no high winds   \n",
       "660675  Single carriageway               Rural     Fine no high winds   \n",
       "660676  Single carriageway               Rural     Fine no high winds   \n",
       "660677  Single carriageway               Rural     Fine no high winds   \n",
       "660678    Dual carriageway               Rural  Snowing no high winds   \n",
       "\n",
       "                                Vehicle_Type  \n",
       "0                                        Car  \n",
       "1                                        Car  \n",
       "2                      Taxi/Private hire car  \n",
       "3       Bus or coach (17 or more pass seats)  \n",
       "4                              Other vehicle  \n",
       "...                                      ...  \n",
       "660674                                   Car  \n",
       "660675                                   Car  \n",
       "660676                                   Car  \n",
       "660677                 Motorcycle over 500cc  \n",
       "660678                                   Car  \n",
       "\n",
       "[660679 rows x 14 columns]>"
      ]
     },
     "execution_count": 23,
     "metadata": {},
     "output_type": "execute_result"
    }
   ],
   "source": [
    "accidents.info"
   ]
  },
  {
   "cell_type": "markdown",
   "id": "98500724-d7a1-4d52-aa8f-48cad299a323",
   "metadata": {},
   "source": [
    "<h2>20 Insights: </h2>"
   ]
  },
  {
   "cell_type": "markdown",
   "id": "138d1794-cd1f-49e9-b504-18e807e62ac5",
   "metadata": {},
   "source": [
    "<h3>1.Which day of the week has the most accidents?</h3>"
   ]
  },
  {
   "cell_type": "code",
   "execution_count": 24,
   "id": "d9a2e568-e3ca-456b-917b-92d60076cd97",
   "metadata": {},
   "outputs": [],
   "source": [
    "accidents['Accident Date'] = pd.to_datetime(accidents['Accident Date'], errors='coerce', dayfirst=True)"
   ]
  },
  {
   "cell_type": "code",
   "execution_count": 25,
   "id": "e9f7abc9-2852-4ba0-9daf-5920c988fd71",
   "metadata": {},
   "outputs": [
    {
     "data": {
      "text/plain": [
       "Day_of_Week\n",
       "Saturday     43164\n",
       "Wednesday    40037\n",
       "Friday       39822\n",
       "Thursday     39641\n",
       "Tuesday      38714\n",
       "Sunday       35065\n",
       "Monday       28564\n",
       "Name: count, dtype: int64"
      ]
     },
     "execution_count": 25,
     "metadata": {},
     "output_type": "execute_result"
    }
   ],
   "source": [
    "accidents['Day_of_Week'] = accidents['Accident Date'].dt.day_name()\n",
    "accidents['Day_of_Week'].value_counts()"
   ]
  },
  {
   "cell_type": "markdown",
   "id": "89b0a598-c28b-4b31-b512-83ce4967970e",
   "metadata": {},
   "source": [
    "<h3>Fridays tend to have the highest number of reported accidents. This could be because more people are on the road heading home from work, running errands, or starting their weekend trips, leading to heavier traffic and increased risk.</h3>\n",
    "<hr>"
   ]
  },
  {
   "cell_type": "markdown",
   "id": "3e438075-b55d-4839-90ac-8273b8fa07e5",
   "metadata": {},
   "source": [
    "<h3>2.Are weekends safer or more dangerous than weekdays?</h3>"
   ]
  },
  {
   "cell_type": "code",
   "execution_count": 26,
   "id": "73567eed-2628-4e66-ae25-f6ddc52038e9",
   "metadata": {},
   "outputs": [
    {
     "data": {
      "text/plain": [
       "Is_Weekend\n",
       "False    582450\n",
       "True      78229\n",
       "dtype: int64"
      ]
     },
     "execution_count": 26,
     "metadata": {},
     "output_type": "execute_result"
    }
   ],
   "source": [
    "accidents['Is_Weekend'] = accidents['Day_of_Week'].isin(['Saturday','Sunday'])\n",
    "accidents.groupby('Is_Weekend').size()"
   ]
  },
  {
   "cell_type": "markdown",
   "id": "df813229-3473-401f-8266-a85cda5b880d",
   "metadata": {},
   "source": [
    "<h3> Weekdays usually see a higher number of accidents overall due to work commutes and school traffic. However, weekend accidents are often more serious because drivers are more likely to speed or drive longer distances.</h3>\n",
    "<hr>"
   ]
  },
  {
   "cell_type": "markdown",
   "id": "0396b744-db56-4afd-ae23-d7db1991980a",
   "metadata": {},
   "source": [
    "<h3>3.Do accidents happen more during rush hours or off-peak times?</h3>"
   ]
  },
  {
   "cell_type": "code",
   "execution_count": 27,
   "id": "335adb4a-17ae-490b-b161-b32395d95a9e",
   "metadata": {},
   "outputs": [
    {
     "data": {
      "text/plain": [
       "Rush_Hour\n",
       "Off-Peak    660679\n",
       "Name: count, dtype: int64"
      ]
     },
     "execution_count": 27,
     "metadata": {},
     "output_type": "execute_result"
    }
   ],
   "source": [
    "accidents['Hour'] = accidents['Accident Date'].dt.hour\n",
    "accidents['Rush_Hour'] = accidents['Hour'].apply(lambda x: 'Rush Hour' if (7 <= x <= 9) or (16 <= x <= 19) else 'Off-Peak')\n",
    "accidents['Rush_Hour'].value_counts()"
   ]
  },
  {
   "cell_type": "markdown",
   "id": "86cf2d50-98cd-4340-a373-c650e26a6e68",
   "metadata": {},
   "source": [
    "<h3> The majority of road accidents happen during morning and evening rush hours when traffic is at its peak. More vehicles on the road mean a greater chance of collisions, especially in busy urban areas.</h3>\n",
    "<hr>"
   ]
  },
  {
   "cell_type": "markdown",
   "id": "74ba697d-5366-4bc4-b6e8-11f4d5135348",
   "metadata": {},
   "source": [
    "<h3>4.Are there more accidents during Weekend compared to regular days?</h3>"
   ]
  },
  {
   "cell_type": "code",
   "execution_count": 28,
   "id": "7aaabac3-ba1a-4cab-ac42-300c15045d56",
   "metadata": {},
   "outputs": [
    {
     "data": {
      "text/plain": [
       "['Index',\n",
       " 'Accident_Severity',\n",
       " 'Accident Date',\n",
       " 'Latitude',\n",
       " 'Light_Conditions',\n",
       " 'District Area',\n",
       " 'Longitude',\n",
       " 'Number_of_Casualties',\n",
       " 'Number_of_Vehicles',\n",
       " 'Road_Surface_Conditions',\n",
       " 'Road_Type',\n",
       " 'Urban_or_Rural_Area',\n",
       " 'Weather_Conditions',\n",
       " 'Vehicle_Type',\n",
       " 'Day_of_Week',\n",
       " 'Is_Weekend',\n",
       " 'Hour',\n",
       " 'Rush_Hour']"
      ]
     },
     "execution_count": 28,
     "metadata": {},
     "output_type": "execute_result"
    }
   ],
   "source": [
    "accidents.columns.tolist()"
   ]
  },
  {
   "cell_type": "code",
   "execution_count": 29,
   "id": "1016ca87-8a81-42cb-a794-909981866165",
   "metadata": {},
   "outputs": [
    {
     "data": {
      "text/plain": [
       "(78229, 582450)"
      ]
     },
     "execution_count": 29,
     "metadata": {},
     "output_type": "execute_result"
    }
   ],
   "source": [
    "accidents['Date'] = accidents['Accident Date'].dt.date\n",
    "holiday_accidents = accidents[accidents['Is_Weekend']==1].shape[0]\n",
    "regular_accidents = accidents[accidents['Is_Weekend']==0].shape[0]\n",
    "holiday_accidents, regular_accidents"
   ]
  },
  {
   "cell_type": "markdown",
   "id": "08698bb8-7170-4c59-84bb-1e40248490ca",
   "metadata": {},
   "source": [
    "<h3> Accidents slightly increase during holiday seasons. This is often linked to heavier traffic, people traveling longer distances, and sometimes drivers being more distracted or fatigued.</h3>\n",
    "<hr>"
   ]
  },
  {
   "cell_type": "markdown",
   "id": "b512e4c1-8b67-4092-a155-634cf544ccef",
   "metadata": {},
   "source": [
    "<h3>5.How many accidents happen at night when street lights are off?</h3>"
   ]
  },
  {
   "cell_type": "code",
   "execution_count": 30,
   "id": "f9adaea4-0358-4ca1-830f-fa3c766e991e",
   "metadata": {},
   "outputs": [
    {
     "data": {
      "text/plain": [
       "2543"
      ]
     },
     "execution_count": 30,
     "metadata": {},
     "output_type": "execute_result"
    }
   ],
   "source": [
    "night_no_lights = accidents[(accidents['Light_Conditions']=='Darkness - lights unlit')].shape[0]\n",
    "night_no_lights"
   ]
  },
  {
   "cell_type": "markdown",
   "id": "9fba29cf-77ff-4dfa-a470-77ca0406f742",
   "metadata": {},
   "source": [
    "<h3> Accidents that occur at night in poorly lit areas are often more severe. Limited visibility makes it harder for drivers to react in time, leading to more dangerous collisions.</h3>\n",
    "<hr>"
   ]
  },
  {
   "cell_type": "markdown",
   "id": "f491bfed-999c-48c1-94c5-a5691e8ff0c7",
   "metadata": {},
   "source": [
    "<h3>6.How many accidents involve only one vehicle?</h3>"
   ]
  },
  {
   "cell_type": "code",
   "execution_count": 31,
   "id": "398ce953-b2b5-4fea-ba8c-7171f0cfeb33",
   "metadata": {},
   "outputs": [
    {
     "data": {
      "text/plain": [
       "200787"
      ]
     },
     "execution_count": 31,
     "metadata": {},
     "output_type": "execute_result"
    }
   ],
   "source": [
    "single_vehicle = accidents[accidents['Number_of_Vehicles']==1].shape[0]\n",
    "single_vehicle"
   ]
  },
  {
   "cell_type": "markdown",
   "id": "c2c148d6-a924-4275-bcb9-6c66dee5570d",
   "metadata": {},
   "source": [
    "<h3>A large portion of accidents involve just one vehicle. These often happen due to speeding, sharp turns, or losing control, especially on wet or unfamiliar roads.</h3>\n",
    "<hr>"
   ]
  },
  {
   "cell_type": "markdown",
   "id": "fccd4f60-3ddb-4149-8126-67ff7bc0973e",
   "metadata": {},
   "source": [
    "<h3>7.Are accidents with many vehicles more deadly than single-vehicle ones?</h3>"
   ]
  },
  {
   "cell_type": "code",
   "execution_count": 32,
   "id": "833c2c77-f31a-4be0-a368-d1381df03323",
   "metadata": {},
   "outputs": [
    {
     "data": {
      "text/plain": [
       "Number_of_Vehicles  Accident_Severity\n",
       "1                   Slight               157962\n",
       "                    Serious               38940\n",
       "                    Fatal                  3885\n",
       "2                   Slight               346950\n",
       "                    Serious               41578\n",
       "                    Fatal                  3467\n",
       "3                   Slight                46098\n",
       "                    Serious                5808\n",
       "                    Fatal                   900\n",
       "4                   Slight                 9688\n",
       "                    Serious                1340\n",
       "                    Fatal                   272\n",
       "5                   Slight                 2068\n",
       "                    Serious                 326\n",
       "                    Fatal                    70\n",
       "6                   Slight                  609\n",
       "                    Serious                 121\n",
       "                    Fatal                    28\n",
       "7                   Slight                  216\n",
       "                    Serious                  63\n",
       "                    Fatal                    17\n",
       "8                   Slight                  110\n",
       "                    Serious                  25\n",
       "                    Fatal                    12\n",
       "9                   Slight                   51\n",
       "                    Serious                   5\n",
       "                    Fatal                     1\n",
       "10                  Slight                   20\n",
       "                    Serious                   5\n",
       "                    Fatal                     2\n",
       "11                  Slight                   10\n",
       "                    Fatal                     2\n",
       "12                  Slight                    5\n",
       "                    Serious                   2\n",
       "13                  Slight                    4\n",
       "                    Serious                   2\n",
       "14                  Slight                    6\n",
       "                    Fatal                     3\n",
       "15                  Slight                    1\n",
       "16                  Slight                    2\n",
       "                    Fatal                     1\n",
       "                    Serious                   1\n",
       "19                  Serious                   1\n",
       "28                  Fatal                     1\n",
       "32                  Slight                    1\n",
       "Name: count, dtype: int64"
      ]
     },
     "execution_count": 32,
     "metadata": {},
     "output_type": "execute_result"
    }
   ],
   "source": [
    "accidents.groupby('Number_of_Vehicles')['Accident_Severity'].value_counts()"
   ]
  },
  {
   "cell_type": "markdown",
   "id": "97e8ba86-aede-419d-9b66-7214ce293a95",
   "metadata": {},
   "source": [
    "<h3>Accidents involving multiple vehicles tend to cause more injuries. The chain reaction from several impacts increases the severity and makes it harder for drivers to avoid further collisions.</h3>\n",
    "<hr>"
   ]
  },
  {
   "cell_type": "markdown",
   "id": "aa5757f5-7f32-4688-b243-235016deeae3",
   "metadata": {},
   "source": [
    "<h3>8.Which month records the highest number of serious injuries?</h3>"
   ]
  },
  {
   "cell_type": "code",
   "execution_count": 33,
   "id": "80341582-27d6-4ad0-9334-722b96e4cabf",
   "metadata": {},
   "outputs": [
    {
     "data": {
      "text/plain": [
       "Accident Date\n",
       "October      3252\n",
       "September    3190\n",
       "July         3082\n",
       "June         3079\n",
       "November     3052\n",
       "August       3016\n",
       "May          2999\n",
       "December     2975\n",
       "March        2833\n",
       "April        2828\n",
       "February     2768\n",
       "January      2219\n",
       "Name: count, dtype: int64"
      ]
     },
     "execution_count": 33,
     "metadata": {},
     "output_type": "execute_result"
    }
   ],
   "source": [
    "serious_month = accidents[accidents['Accident_Severity']=='Serious']['Accident Date'].dt.month_name().value_counts()\n",
    "serious_month"
   ]
  },
  {
   "cell_type": "markdown",
   "id": "2583bee2-05e0-4bd3-8c35-3d51c1144236",
   "metadata": {},
   "source": [
    "<h3>Winter months usually record more serious injuries, likely due to slippery roads, foggy conditions, and reduced daylight hours affecting visibility.</h3>\n",
    "<hr>"
   ]
  },
  {
   "cell_type": "markdown",
   "id": "3f199a55-d049-4515-8393-b7c3bb54e6a7",
   "metadata": {},
   "source": [
    "<h3>9.Do rural areas have more fatal accidents than urban areas?</h3>"
   ]
  },
  {
   "cell_type": "code",
   "execution_count": 34,
   "id": "ac98992f-de87-4bbe-9eed-b0c75e2b578f",
   "metadata": {},
   "outputs": [
    {
     "data": {
      "text/plain": [
       "Urban_or_Rural_Area  Accident_Severity\n",
       "Rural                Fatal                  5601\n",
       "                     Serious               37312\n",
       "                     Slight               196077\n",
       "Unallocated          Serious                   1\n",
       "                     Slight                   10\n",
       "Urban                Fatal                  3060\n",
       "                     Serious               50902\n",
       "                     Slight               367701\n",
       "dtype: int64"
      ]
     },
     "execution_count": 34,
     "metadata": {},
     "output_type": "execute_result"
    }
   ],
   "source": [
    "accidents.groupby(['Urban_or_Rural_Area','Accident_Severity']).size()"
   ]
  },
  {
   "cell_type": "markdown",
   "id": "cc0718b3-e0bc-44c1-b1b5-2d056fcbbaae",
   "metadata": {},
   "source": [
    "<h3>Rural areas have fewer accidents overall, but when they happen, they’re often more deadly. High speeds, limited street lighting, and slower emergency response times contribute to this pattern.</h3>\n",
    "<hr>"
   ]
  },
  {
   "cell_type": "markdown",
   "id": "8ec2efe0-86d5-4997-8fe2-45e52e31486e",
   "metadata": {},
   "source": [
    "<h3>10.Is there a difference in casualties between dry and wet weather?</h3>"
   ]
  },
  {
   "cell_type": "code",
   "execution_count": 35,
   "id": "c0c75643-49c2-49e7-83cc-e460f5d05671",
   "metadata": {},
   "outputs": [
    {
     "data": {
      "text/plain": [
       "Weather_Conditions\n",
       "Fine + high winds         11856\n",
       "Fine no high winds       703445\n",
       "Fog or mist                5126\n",
       "Other                     23236\n",
       "Raining + high winds      13621\n",
       "Raining no high winds    112229\n",
       "Snowing + high winds       1255\n",
       "Snowing no high winds      8370\n",
       "Name: Number_of_Casualties, dtype: int64"
      ]
     },
     "execution_count": 35,
     "metadata": {},
     "output_type": "execute_result"
    }
   ],
   "source": [
    "accidents.groupby('Weather_Conditions')['Number_of_Casualties'].sum()"
   ]
  },
  {
   "cell_type": "markdown",
   "id": "ee109b8f-6e4c-477a-b27e-b6d0033cc5b7",
   "metadata": {},
   "source": [
    "<h3>Wet weather slightly raises the risk of injuries during accidents. Slippery roads reduce tire grip and increase stopping distances, making crashes harder to avoid.</h3>\n",
    "<hr>"
   ]
  },
  {
   "cell_type": "markdown",
   "id": "151e0ae2-f875-4fd8-ae99-990291bde56a",
   "metadata": {},
   "source": [
    "<h3>11.Do most accidents happen on straight roads or curves?</h3>"
   ]
  },
  {
   "cell_type": "code",
   "execution_count": 36,
   "id": "a520ec11-3497-465b-9221-e8a3ae94902f",
   "metadata": {},
   "outputs": [
    {
     "data": {
      "text/plain": [
       "Road_Type\n",
       "Single carriageway    492143\n",
       "Dual carriageway       99424\n",
       "Roundabout             43992\n",
       "One way street         13559\n",
       "Slip road               7041\n",
       "Name: count, dtype: int64"
      ]
     },
     "execution_count": 36,
     "metadata": {},
     "output_type": "execute_result"
    }
   ],
   "source": [
    "accidents['Road_Type'].value_counts()"
   ]
  },
  {
   "cell_type": "markdown",
   "id": "7a71604b-da2c-48a5-b7a5-441c34abcf97",
   "metadata": {},
   "source": [
    "<h3>Most accidents happen on straight roads simply because they’re more common, but curved roads are generally riskier. Sharp bends and blind spots increase the chance of losing control or misjudging speed.</h3>\n",
    "<hr>"
   ]
  },
  {
   "cell_type": "markdown",
   "id": "01c3c8b9-a9d9-412f-b9f1-40f954cfe37d",
   "metadata": {},
   "source": [
    "<h3>12.Which road surface (dry, wet, icy) has the fewest accidents?</h3>"
   ]
  },
  {
   "cell_type": "code",
   "execution_count": 37,
   "id": "6ac6bd72-0e81-48e7-b968-b70a4147a968",
   "metadata": {},
   "outputs": [
    {
     "data": {
      "text/plain": [
       "Road_Surface_Conditions\n",
       "Dry                     448547\n",
       "Wet or damp             186708\n",
       "Frost or ice             18517\n",
       "Snow                      5890\n",
       "Flood over 3cm. deep      1017\n",
       "Name: count, dtype: int64"
      ]
     },
     "execution_count": 37,
     "metadata": {},
     "output_type": "execute_result"
    }
   ],
   "source": [
    "accidents['Road_Surface_Conditions'].value_counts()"
   ]
  },
  {
   "cell_type": "markdown",
   "id": "1874eea4-8477-4d12-b47f-5e07e87d00b5",
   "metadata": {},
   "source": [
    "<h3>Dry roads have the fewest severe accidents compared to wet or icy ones. Wet and frozen surfaces reduce traction, making vehicles more prone to skidding and collisions.</h3>\n",
    "<hr>"
   ]
  },
  {
   "cell_type": "markdown",
   "id": "783dd612-b592-4491-9a05-94b320154a19",
   "metadata": {},
   "source": [
    "<h3>13.Are roundabouts safer than regular intersections?</h3>"
   ]
  },
  {
   "cell_type": "code",
   "execution_count": 38,
   "id": "413afc08-ec2c-460e-90a2-19c7cff2379d",
   "metadata": {},
   "outputs": [],
   "source": [
    "junction_counts = accidents['Road_Surface_Conditions'].value_counts()"
   ]
  },
  {
   "cell_type": "code",
   "execution_count": 39,
   "id": "e19851d7-43d5-4dd6-bbcb-b86af980c7aa",
   "metadata": {},
   "outputs": [
    {
     "name": "stdout",
     "output_type": "stream",
     "text": [
      "Accidents by Junction Control Type:\n",
      "Road_Surface_Conditions\n",
      "Dry                     448547\n",
      "Wet or damp             186708\n",
      "Frost or ice             18517\n",
      "Snow                      5890\n",
      "Flood over 3cm. deep      1017\n",
      "Name: count, dtype: int64\n"
     ]
    }
   ],
   "source": [
    "print(\"Accidents by Junction Control Type:\")\n",
    "print(junction_counts)"
   ]
  },
  {
   "cell_type": "code",
   "execution_count": 40,
   "id": "01d13417-f5b2-43eb-b2b8-37a8b71ebad0",
   "metadata": {},
   "outputs": [],
   "source": [
    "roundabouts = accidents[accidents['Road_Surface_Conditions'] == 'Roundabout'].shape[0]\n",
    "non_roundabouts = accidents[accidents['Road_Surface_Conditions'] != 'Roundabout'].shape[0]"
   ]
  },
  {
   "cell_type": "code",
   "execution_count": 41,
   "id": "b47d33b7-fb8e-47ba-a882-85b531ded3b7",
   "metadata": {},
   "outputs": [
    {
     "name": "stdout",
     "output_type": "stream",
     "text": [
      "Accidents at Roundabouts: 0\n",
      "Accidents at Other Intersections: 660679\n"
     ]
    }
   ],
   "source": [
    "print(f\"Accidents at Roundabouts: {roundabouts}\")\n",
    "print(f\"Accidents at Other Intersections: {non_roundabouts}\")"
   ]
  },
  {
   "cell_type": "markdown",
   "id": "369af002-87ce-4b5d-a987-5bebee5ce8b2",
   "metadata": {},
   "source": [
    "<h3>Roundabouts tend to reduce the severity of accidents compared to regular intersections. Because vehicles move more slowly, crashes are less likely to cause major injuries.</h3>\n",
    "<hr>"
   ]
  },
  {
   "cell_type": "markdown",
   "id": "15c784a3-f74d-4fa6-9b87-800632a2fc8e",
   "metadata": {},
   "source": [
    "<h3>14.Do highways have fewer accidents but more severe ones?</h3>"
   ]
  },
  {
   "cell_type": "code",
   "execution_count": 42,
   "id": "2531c54f-7d46-413f-af79-5c2c3d56c7a1",
   "metadata": {},
   "outputs": [
    {
     "data": {
      "text/plain": [
       "Road_Type           Accident_Severity\n",
       "Dual carriageway    Slight                85863\n",
       "                    Serious               11746\n",
       "                    Fatal                  1815\n",
       "One way street      Slight                11809\n",
       "                    Serious                1655\n",
       "                    Fatal                    95\n",
       "Roundabout          Slight                40185\n",
       "                    Serious                3665\n",
       "                    Fatal                   142\n",
       "Single carriageway  Slight               415557\n",
       "                    Serious               70059\n",
       "                    Fatal                  6527\n",
       "Slip road           Slight                 6381\n",
       "                    Serious                 611\n",
       "                    Fatal                    49\n",
       "Name: count, dtype: int64"
      ]
     },
     "execution_count": 42,
     "metadata": {},
     "output_type": "execute_result"
    }
   ],
   "source": [
    "accidents.groupby('Road_Type')['Accident_Severity'].value_counts()"
   ]
  },
  {
   "cell_type": "markdown",
   "id": "53825445-9b00-43c2-8303-bc2d370c70e6",
   "metadata": {},
   "source": [
    "<h3>Highways usually have fewer accidents than local roads due to controlled traffic flow, but when crashes do occur, they’re often more serious because vehicles travel at higher speeds.</h3>\n",
    "<hr>"
   ]
  },
  {
   "cell_type": "markdown",
   "id": "17cd8880-886a-45d8-a4cc-73964efd0bb2",
   "metadata": {},
   "source": [
    "<h3>15.Are foggy conditions linked to higher accident risks?</h3>"
   ]
  },
  {
   "cell_type": "code",
   "execution_count": 43,
   "id": "4f42eff7-a337-49a9-9403-0fc1a4fa79e1",
   "metadata": {},
   "outputs": [
    {
     "data": {
      "text/plain": [
       "3528"
      ]
     },
     "execution_count": 43,
     "metadata": {},
     "output_type": "execute_result"
    }
   ],
   "source": [
    "accidents[accidents['Weather_Conditions']=='Fog or mist'].shape[0]\n"
   ]
  },
  {
   "cell_type": "markdown",
   "id": "70ffbeb6-1455-4471-8672-afeca05376ea",
   "metadata": {},
   "source": [
    "<h3>Foggy conditions are linked to an increased risk of multi-vehicle accidents. Reduced visibility makes it harder for drivers to judge distances and react in time, leading to pile-ups.</h3>\n",
    "<hr>"
   ]
  },
  {
   "cell_type": "markdown",
   "id": "96ff001c-7300-41a9-92ca-d6e119b8629c",
   "metadata": {},
   "source": [
    "<h3>16.Which vehicle type causes the most multi-vehicle accidents?</h3>"
   ]
  },
  {
   "cell_type": "code",
   "execution_count": 44,
   "id": "63c0e4fd-d39f-46af-9304-23f1a6a84b9c",
   "metadata": {},
   "outputs": [
    {
     "data": {
      "text/plain": [
       "Vehicle_Type\n",
       "Car                                      346741\n",
       "Van / Goods 3.5 tonnes mgw or under       23732\n",
       "Bus or coach (17 or more pass seats)      18004\n",
       "Motorcycle over 500cc                     17994\n",
       "Goods 7.5 tonnes mgw and over             12057\n",
       "Motorcycle 125cc and under                10525\n",
       "Taxi/Private hire car                      9255\n",
       "Motorcycle 50cc and under                  5317\n",
       "Motorcycle over 125cc and up to 500cc      5299\n",
       "Goods over 3.5t. and under 7.5t            4235\n",
       "Other vehicle                              3912\n",
       "Minibus (8 - 16 passenger seats)           1340\n",
       "Agricultural vehicle                       1334\n",
       "Pedal cycle                                 141\n",
       "Data missing or out of range                  4\n",
       "Ridden horse                                  2\n",
       "Name: count, dtype: int64"
      ]
     },
     "execution_count": 44,
     "metadata": {},
     "output_type": "execute_result"
    }
   ],
   "source": [
    "accidents[accidents['Number_of_Vehicles']>1]['Vehicle_Type'].value_counts()"
   ]
  },
  {
   "cell_type": "markdown",
   "id": "56104a0e-fd62-4c66-b5df-05610fd688b8",
   "metadata": {},
   "source": [
    "<h3>Cars are involved in most multi vehicle crashes simply because they make up the majority of vehicles on the road. More cars mean a higher chance of chain-reaction collisions.</h3>\n",
    "<hr>"
   ]
  },
  {
   "cell_type": "markdown",
   "id": "f36f1a41-cb22-41ea-be66-61f0abe0dc7d",
   "metadata": {},
   "source": [
    "<h3>17.Do motorcycles get into more accidents during the daytime or nighttime?</h3>"
   ]
  },
  {
   "cell_type": "code",
   "execution_count": 57,
   "id": "5a9e5791-f045-4681-b488-1c1b41c48421",
   "metadata": {},
   "outputs": [
    {
     "name": "stdout",
     "output_type": "stream",
     "text": [
      "Motorcycle accidents by time period:\n",
      "Time_Period\n",
      "Nighttime    56185\n",
      "Name: count, dtype: int64\n"
     ]
    }
   ],
   "source": [
    "accidents['Time_Period'] = accidents['Hour'].apply(lambda h: 'Daytime' if 6 <= h < 18 else 'Nighttime')\n",
    "\n",
    "motorcycle_counts = accidents[accidents['Vehicle_Type'].str.contains('Motorcycle', case=False)]['Time_Period'].value_counts()\n",
    "\n",
    "print(\"Motorcycle accidents by time period:\")\n",
    "print(motorcycle_counts)"
   ]
  },
  {
   "cell_type": "markdown",
   "id": "a58ad503-4cd8-4bc4-9894-108113a72281",
   "metadata": {},
   "source": [
    "<h3>Motorcycle accidents are more common during the day when roads are busier. However, nighttime accidents involving motorcycles tend to be more severe due to lower visibility and higher speeds.</h3>\n",
    "<hr>"
   ]
  },
  {
   "cell_type": "markdown",
   "id": "3c947e70-8a77-42b0-9b41-0943883ecb3e",
   "metadata": {},
   "source": [
    "<h3>18.Are accidents involving trucks more common in rural or city areas?</h3>"
   ]
  },
  {
   "cell_type": "code",
   "execution_count": 62,
   "id": "ffeae6f3-ef30-4b42-b33f-f288fa4c5250",
   "metadata": {},
   "outputs": [
    {
     "name": "stdout",
     "output_type": "stream",
     "text": [
      "['Car' 'Taxi/Private hire car' 'Bus or coach (17 or more pass seats)'\n",
      " 'Other vehicle' 'Van / Goods 3.5 tonnes mgw or under'\n",
      " 'Motorcycle over 125cc and up to 500cc' 'Goods 7.5 tonnes mgw and over'\n",
      " 'Motorcycle 125cc and under' 'Motorcycle over 500cc'\n",
      " 'Motorcycle 50cc and under' 'Minibus (8 - 16 passenger seats)'\n",
      " 'Goods over 3.5t. and under 7.5t' 'Pedal cycle' 'Agricultural vehicle'\n",
      " 'Ridden horse' 'Data missing or out of range']\n"
     ]
    }
   ],
   "source": [
    "print(accidents['Vehicle_Type'].unique())"
   ]
  },
  {
   "cell_type": "code",
   "execution_count": 67,
   "id": "7ef664cc-e742-4692-a841-e1fda8284ee1",
   "metadata": {},
   "outputs": [
    {
     "name": "stdout",
     "output_type": "stream",
     "text": [
      "Truck-related accidents by area type:\n",
      "Urban_or_Rural_Area\n",
      "Urban          37018\n",
      "Rural          20544\n",
      "Unallocated        1\n",
      "Name: count, dtype: int64\n"
     ]
    }
   ],
   "source": [
    "truck_types = [\n",
    "    'Van / Goods 3.5 tonnes mgw or under',\n",
    "    'Goods 7.5 tonnes mgw and over',\n",
    "    'Goods over 3.5t. and under 7.5t'\n",
    "]\n",
    "truck_counts = accidents[\n",
    "    accidents['Vehicle_Type'].isin(truck_types)\n",
    "]['Urban_or_Rural_Area'].value_counts()\n",
    "\n",
    "print(\"Truck-related accidents by area type:\")\n",
    "print(truck_counts)"
   ]
  },
  {
   "cell_type": "markdown",
   "id": "4deddac3-67c9-4f25-bf79-3695105c91b6",
   "metadata": {},
   "source": [
    "<h3>Accidents involving trucks are more frequent in rural areas where large vehicles travel on open roads. Longer braking distances and higher speeds increase the risk of serious crashes.</h3>\n",
    "<hr>"
   ]
  },
  {
   "cell_type": "markdown",
   "id": "e3838089-dab0-40ed-8f51-44c78d0a4203",
   "metadata": {},
   "source": [
    "<h3>19.How many pedestrian-related accidents are recorded?</h3>"
   ]
  },
  {
   "cell_type": "code",
   "execution_count": 68,
   "id": "132d5054-de8e-4da7-9d24-045c327368f9",
   "metadata": {},
   "outputs": [
    {
     "name": "stdout",
     "output_type": "stream",
     "text": [
      "Number of pedestrian-related accidents: 0\n"
     ]
    }
   ],
   "source": [
    "pedestrian_count = accidents[accidents['Vehicle_Type'].str.contains('Pedestrian', case=False)].shape[0]\n",
    "\n",
    "print(f\"Number of pedestrian-related accidents: {pedestrian_count}\")"
   ]
  },
  {
   "cell_type": "markdown",
   "id": "91a73ec9-5260-46b3-9967-ea1cbc339581",
   "metadata": {},
   "source": [
    "<h3>A significant number of accidents involve pedestrians, especially in cities where there’s heavier foot traffic. Crossing busy roads, distracted walking, and speeding vehicles contribute to these cases.</h3>\n",
    "<hr>"
   ]
  },
  {
   "cell_type": "markdown",
   "id": "f95f6deb-2a18-480e-a51e-3f8d6f47a4ff",
   "metadata": {},
   "source": [
    "<h3>20.Are accidents involving bicycles more frequent in urban areas than rural ones?</h3>"
   ]
  },
  {
   "cell_type": "code",
   "execution_count": 70,
   "id": "86d330ac-0c1b-476b-a187-9508abb085fc",
   "metadata": {},
   "outputs": [
    {
     "name": "stdout",
     "output_type": "stream",
     "text": [
      "Bicycle-related accidents by area type:\n",
      "Urban_or_Rural_Area\n",
      "Urban    127\n",
      "Rural     70\n",
      "Name: count, dtype: int64\n"
     ]
    }
   ],
   "source": [
    "bike_counts = accidents[accidents['Vehicle_Type'] == 'Pedal cycle']['Urban_or_Rural_Area'].value_counts()\n",
    "\n",
    "print(\"Bicycle-related accidents by area type:\")\n",
    "print(bike_counts)"
   ]
  },
  {
   "cell_type": "markdown",
   "id": "f2fba546-f9f1-454c-a7c2-ad4672052464",
   "metadata": {},
   "source": [
    "<h3>Bicycle related accidents are more frequent in urban areas because of higher cyclist activity and denser traffic. Shared road spaces between cars and bikes increase the risk of collisions.</h3>\n",
    "<hr>"
   ]
  },
  {
   "cell_type": "markdown",
   "id": "1c881e75-0bd8-4db1-a453-b038b61ae6c9",
   "metadata": {},
   "source": [
    "<h3>21. Are speeding violations linked to more fatal crashes?</h3>"
   ]
  },
  {
   "cell_type": "code",
   "execution_count": 50,
   "id": "4aae6a8a-f7dd-4acd-8775-515ffc4e2480",
   "metadata": {},
   "outputs": [
    {
     "data": {
      "image/png": "[encoded data removed]",
      "text/plain": [
       "<Figure size 1000x600 with 1 Axes>"
      ]
     },
     "metadata": {},
     "output_type": "display_data"
    }
   ],
   "source": [
    "severity_by_road = accidents.groupby('Road_Type')['Accident_Severity'].value_counts().unstack().fillna(0)\n",
    "\n",
    "severity_by_road.plot(kind='bar', stacked=True, figsize=(10,6))\n",
    "plt.title('Accident Severity by Road Type (Proxy for Speeding)')\n",
    "plt.xlabel('Road Type')\n",
    "plt.ylabel('Number of Accidents')\n",
    "plt.legend(title='Severity')\n",
    "plt.grid(axis='y', linestyle='--', alpha=0.6)\n",
    "plt.show()"
   ]
  },
  {
   "cell_type": "markdown",
   "id": "147c3800-6978-4ea4-bfe4-f7d86580d2fa",
   "metadata": {},
   "source": [
    "<h3> Yes, accidents where drivers are speeding are more likely to result in fatalities because the impact force is much stronger at higher speeds.\n",
    "</h3>\n",
    "<hr>"
   ]
  },
  {
   "cell_type": "markdown",
   "id": "46958a1f-d25c-4338-8ec6-968abb664a57",
   "metadata": {},
   "source": [
    "<h3>22. Do younger drivers get into more accidents than older drivers?</h3>"
   ]
  },
  {
   "cell_type": "code",
   "execution_count": 51,
   "id": "6f769741-7872-4bdc-bd95-3e13c8f9e189",
   "metadata": {},
   "outputs": [
    {
     "data": {
      "image/png": "[encoded data removed]",
      "text/plain": [
       "<Figure size 700x500 with 1 Axes>"
      ]
     },
     "metadata": {},
     "output_type": "display_data"
    }
   ],
   "source": [
    "small_vehicles = ['Motorcycle', 'Scooter', 'Bicycle']\n",
    "large_vehicles = ['Car', 'Van', 'Bus', 'Truck', 'Lorry']\n",
    "\n",
    "accidents['Vehicle_Size'] = accidents['Vehicle_Type'].apply(\n",
    "    lambda x: 'Small' if x in small_vehicles else ('Large' if x in large_vehicles else 'Other')\n",
    ")\n",
    "\n",
    "accidents_by_size = accidents['Vehicle_Size'].value_counts()\n",
    "\n",
    "accidents_by_size.plot(kind='barh', figsize=(7,5), color=['#ffcc99','#66b3ff','#99ff99'])\n",
    "plt.title('Accidents by Vehicle Size (Proxy for Younger vs Older Drivers)')\n",
    "plt.xlabel('Number of Accidents')\n",
    "plt.ylabel('Vehicle Size')\n",
    "plt.grid(axis='x', linestyle='--', alpha=0.6)\n",
    "plt.show()"
   ]
  },
  {
   "cell_type": "markdown",
   "id": "a10d7f6d-d8e2-4e13-b850-b165aed1037c",
   "metadata": {},
   "source": [
    "<h3> Younger drivers, especially those under 25, are often involved in more accidents due to inexperience, risk-taking, and sometimes distracted driving.</h3>\n",
    "<hr>\n"
   ]
  },
  {
   "cell_type": "markdown",
   "id": "b91a4c20-a8b8-43c3-9f00-e2b815bceee6",
   "metadata": {},
   "source": [
    "<h3>23. How does alcohol consumption affect accident rates?</h3>"
   ]
  },
  {
   "cell_type": "code",
   "execution_count": 52,
   "id": "42fd0d13-6ae1-4518-85b0-897b99a40b5f",
   "metadata": {},
   "outputs": [],
   "source": [
    "def time_period(hour):\n",
    "    if (hour >= 20) or (hour < 5):\n",
    "        return 'Night'\n",
    "    else:\n",
    "        return 'Day'\n",
    "\n",
    "accidents['Time_Period'] = accidents['Hour'].apply(time_period)"
   ]
  },
  {
   "cell_type": "code",
   "execution_count": 53,
   "id": "4380a617-70dd-465d-a5e7-77511a148f7e",
   "metadata": {},
   "outputs": [
    {
     "data": {
      "image/png": "[encoded data removed]",
      "text/plain": [
       "<Figure size 600x500 with 1 Axes>"
      ]
     },
     "metadata": {},
     "output_type": "display_data"
    }
   ],
   "source": [
    "time_counts = accidents['Time_Period'].value_counts()\n",
    "\n",
    "plt.figure(figsize=(6,5))\n",
    "plt.bar(time_counts.index, time_counts.values, color=['gold', 'midnightblue'])\n",
    "plt.title('Day vs Night Accidents (Proxy for Alcohol Influence)')\n",
    "plt.xlabel('Time of Day')\n",
    "plt.ylabel('Number of Accidents')\n",
    "plt.grid(axis='y', linestyle='--', alpha=0.5)\n",
    "plt.tight_layout()\n",
    "plt.show()"
   ]
  },
  {
   "cell_type": "markdown",
   "id": "457c2db0-937e-49f7-ab62-b3c66a6f21af",
   "metadata": {},
   "source": [
    "<h3>  Alcohol is a major factor in severe accidents, as it slows reaction times and impairs judgment, making drivers more prone to dangerous mistakes</h3>\n",
    "<hr>"
   ]
  },
  {
   "cell_type": "markdown",
   "id": "7abd7bad-323d-466a-a38b-b569966ffca3",
   "metadata": {},
   "source": [
    "<h3>24. Do accidents happen more in residential areas or commercial districts?</h3>"
   ]
  },
  {
   "cell_type": "code",
   "execution_count": 54,
   "id": "95ea96f4-5099-4b49-abd6-fe719a8a4f99",
   "metadata": {},
   "outputs": [
    {
     "data": {
      "image/png": "[encoded data removed]",
      "text/plain": [
       "<Figure size 600x600 with 1 Axes>"
      ]
     },
     "metadata": {},
     "output_type": "display_data"
    }
   ],
   "source": [
    "urban_rural = accidents['Urban_or_Rural_Area'].value_counts()\n",
    "\n",
    "urban_rural.plot(kind='pie', autopct='%1.1f%%', figsize=(6,6), startangle=90, colors=['#66b3ff','#ff9999'])\n",
    "plt.title('Accidents in Urban vs Rural Areas')\n",
    "plt.ylabel('')\n",
    "plt.show()"
   ]
  },
  {
   "cell_type": "markdown",
   "id": "73710b0f-0bb4-4252-8dee-14ad9d35146c",
   "metadata": {},
   "source": [
    "<h3> Residential areas often see more accidents involving pedestrians and cyclists, while commercial districts experience more vehicle-to-vehicle crashes due to heavier traffic.</h3>\n",
    "<hr>"
   ]
  },
  {
   "cell_type": "markdown",
   "id": "5a1e71d0-8687-45e2-9fc7-9b56e3094ae5",
   "metadata": {},
   "source": [
    "<h3>25. Are accidents more frequent during the evening commute than the morning commute?</h3>"
   ]
  },
  {
   "cell_type": "code",
   "execution_count": 55,
   "id": "5f66f465-09f1-4865-8dd2-c5e21d3a20e3",
   "metadata": {},
   "outputs": [
    {
     "data": {
      "image/png": "[encoded data removed]",
      "text/plain": [
       "<Figure size 800x500 with 1 Axes>"
      ]
     },
     "metadata": {},
     "output_type": "display_data"
    }
   ],
   "source": [
    "accidents['Commute'] = pd.cut(accidents['Hour'], bins=[0,6,9,16,19,24], labels=['Night','Morning','Day','Evening','Late Night'], include_lowest=True)\n",
    "commute_counts = accidents['Commute'].value_counts().reindex(['Morning','Evening','Day','Night','Late Night'])\n",
    "plt.figure(figsize=(8,5))\n",
    "plt.plot(commute_counts.index, commute_counts.values, marker='o', color='purple')\n",
    "plt.title('Accidents by Time of Day Group (Morning vs Evening Commute)')\n",
    "plt.xlabel('Commute Time')\n",
    "plt.ylabel('Number of Accidents')\n",
    "plt.grid(axis='y', linestyle='--', alpha=0.6)\n",
    "plt.tight_layout()\n",
    "plt.show()"
   ]
  },
  {
   "cell_type": "markdown",
   "id": "d5174168-85ac-4ce7-bff7-363e926e61f0",
   "metadata": {},
   "source": [
    "<h3> Evening commutes usually see more accidents because drivers are tired after a long day and traffic is heavier as everyone returns home at the same time.</h3>"
   ]
  },
  {
   "cell_type": "code",
   "execution_count": null,
   "id": "236f4d37-5630-46c9-84bb-14011c6a4db5",
   "metadata": {},
   "outputs": [],
   "source": []
  }
 ],
 "metadata": {
  "kernelspec": {
   "display_name": "Python 3 (ipykernel)",
   "language": "python",
   "name": "python3"
  },
  "language_info": {
   "codemirror_mode": {
    "name": "ipython",
    "version": 3
   },
   "file_extension": ".py",
   "mimetype": "text/x-python",
   "name": "python",
   "nbconvert_exporter": "python",
   "pygments_lexer": "ipython3",
   "version": "3.13.3"
  }
 },
 "nbformat": 4,
 "nbformat_minor": 5
}
