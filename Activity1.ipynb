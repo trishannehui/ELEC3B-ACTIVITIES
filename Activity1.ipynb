{
 "cells": [
  {
   "cell_type": "markdown",
   "id": "d03be517-ab75-4f60-bfd8-5e1268ca42c3",
   "metadata": {},
   "source": [
    "<h1>ACTIVITY 1 - PALMER PENGUINS DATA ANALYTICS PROJECT</h1>\n",
    "<hr>\n",
    "<h3>Analyst : Trish-Anne Huidem</h3>"
   ]
  },
  {
   "cell_type": "code",
   "execution_count": 1,
   "id": "edf1b328-7cb2-41bf-bda6-e925a7fdaa5c",
   "metadata": {},
   "outputs": [],
   "source": [
    "import numpy as np \n",
    "import pandas as pd\n",
    "import warnings \n",
    "warnings.filterwarnings(\"ignore\")"
   ]
  },
  {
   "cell_type": "markdown",
   "id": "1b2fc9d0-89ac-4c22-b818-3f2300c9d33d",
   "metadata": {},
   "source": [
    "<h3> Converting Datasets(s) into Dataframe</h3>\n",
    "<h2>Requirments</h2>\n",
    "<ul>\n",
    "    <li>Name of the Dataframe</li>\n",
    "    <li>File Path</li>\n",
    "</ul>"
   ]
  },
  {
   "cell_type": "code",
   "execution_count": 2,
   "id": "0f0bf6ab-f7f8-42e0-8838-75bc301ef734",
   "metadata": {},
   "outputs": [],
   "source": [
    "penguins = pd.read_csv('datasets\\\\penguins.csv')"
   ]
  },
  {
   "cell_type": "code",
   "execution_count": 3,
   "id": "010540a4-ec68-4ae2-9c9f-20acc870075c",
   "metadata": {},
   "outputs": [
    {
     "data": {
      "text/html": [
       "<div>\n",
       "<style scoped>\n",
       "    .dataframe tbody tr th:only-of-type {\n",
       "        vertical-align: middle;\n",
       "    }\n",
       "\n",
       "    .dataframe tbody tr th {\n",
       "        vertical-align: top;\n",
       "    }\n",
       "\n",
       "    .dataframe thead th {\n",
       "        text-align: right;\n",
       "    }\n",
       "</style>\n",
       "<table border=\"1\" class=\"dataframe\">\n",
       "  <thead>\n",
       "    <tr style=\"text-align: right;\">\n",
       "      <th></th>\n",
       "      <th>species</th>\n",
       "      <th>island</th>\n",
       "      <th>bill_length_mm</th>\n",
       "      <th>bill_depth_mm</th>\n",
       "      <th>flipper_length_mm</th>\n",
       "      <th>body_mass_g</th>\n",
       "      <th>sex</th>\n",
       "      <th>year</th>\n",
       "    </tr>\n",
       "  </thead>\n",
       "  <tbody>\n",
       "    <tr>\n",
       "      <th>0</th>\n",
       "      <td>Adelie</td>\n",
       "      <td>Torgersen</td>\n",
       "      <td>39.1</td>\n",
       "      <td>18.7</td>\n",
       "      <td>181.0</td>\n",
       "      <td>3750.0</td>\n",
       "      <td>male</td>\n",
       "      <td>2007</td>\n",
       "    </tr>\n",
       "    <tr>\n",
       "      <th>1</th>\n",
       "      <td>Adelie</td>\n",
       "      <td>Torgersen</td>\n",
       "      <td>39.5</td>\n",
       "      <td>17.4</td>\n",
       "      <td>186.0</td>\n",
       "      <td>3800.0</td>\n",
       "      <td>female</td>\n",
       "      <td>2007</td>\n",
       "    </tr>\n",
       "    <tr>\n",
       "      <th>2</th>\n",
       "      <td>Adelie</td>\n",
       "      <td>Torgersen</td>\n",
       "      <td>40.3</td>\n",
       "      <td>18.0</td>\n",
       "      <td>195.0</td>\n",
       "      <td>3250.0</td>\n",
       "      <td>female</td>\n",
       "      <td>2007</td>\n",
       "    </tr>\n",
       "    <tr>\n",
       "      <th>3</th>\n",
       "      <td>Adelie</td>\n",
       "      <td>Torgersen</td>\n",
       "      <td>NaN</td>\n",
       "      <td>NaN</td>\n",
       "      <td>NaN</td>\n",
       "      <td>NaN</td>\n",
       "      <td>NaN</td>\n",
       "      <td>2007</td>\n",
       "    </tr>\n",
       "    <tr>\n",
       "      <th>4</th>\n",
       "      <td>Adelie</td>\n",
       "      <td>Torgersen</td>\n",
       "      <td>36.7</td>\n",
       "      <td>19.3</td>\n",
       "      <td>193.0</td>\n",
       "      <td>3450.0</td>\n",
       "      <td>female</td>\n",
       "      <td>2007</td>\n",
       "    </tr>\n",
       "    <tr>\n",
       "      <th>...</th>\n",
       "      <td>...</td>\n",
       "      <td>...</td>\n",
       "      <td>...</td>\n",
       "      <td>...</td>\n",
       "      <td>...</td>\n",
       "      <td>...</td>\n",
       "      <td>...</td>\n",
       "      <td>...</td>\n",
       "    </tr>\n",
       "    <tr>\n",
       "      <th>339</th>\n",
       "      <td>Chinstrap</td>\n",
       "      <td>Dream</td>\n",
       "      <td>55.8</td>\n",
       "      <td>19.8</td>\n",
       "      <td>207.0</td>\n",
       "      <td>4000.0</td>\n",
       "      <td>male</td>\n",
       "      <td>2009</td>\n",
       "    </tr>\n",
       "    <tr>\n",
       "      <th>340</th>\n",
       "      <td>Chinstrap</td>\n",
       "      <td>Dream</td>\n",
       "      <td>43.5</td>\n",
       "      <td>18.1</td>\n",
       "      <td>202.0</td>\n",
       "      <td>3400.0</td>\n",
       "      <td>female</td>\n",
       "      <td>2009</td>\n",
       "    </tr>\n",
       "    <tr>\n",
       "      <th>341</th>\n",
       "      <td>Chinstrap</td>\n",
       "      <td>Dream</td>\n",
       "      <td>49.6</td>\n",
       "      <td>18.2</td>\n",
       "      <td>193.0</td>\n",
       "      <td>3775.0</td>\n",
       "      <td>male</td>\n",
       "      <td>2009</td>\n",
       "    </tr>\n",
       "    <tr>\n",
       "      <th>342</th>\n",
       "      <td>Chinstrap</td>\n",
       "      <td>Dream</td>\n",
       "      <td>50.8</td>\n",
       "      <td>19.0</td>\n",
       "      <td>210.0</td>\n",
       "      <td>4100.0</td>\n",
       "      <td>male</td>\n",
       "      <td>2009</td>\n",
       "    </tr>\n",
       "    <tr>\n",
       "      <th>343</th>\n",
       "      <td>Chinstrap</td>\n",
       "      <td>Dream</td>\n",
       "      <td>50.2</td>\n",
       "      <td>18.7</td>\n",
       "      <td>198.0</td>\n",
       "      <td>3775.0</td>\n",
       "      <td>female</td>\n",
       "      <td>2009</td>\n",
       "    </tr>\n",
       "  </tbody>\n",
       "</table>\n",
       "<p>344 rows × 8 columns</p>\n",
       "</div>"
      ],
      "text/plain": [
       "       species     island  bill_length_mm  bill_depth_mm  flipper_length_mm  \\\n",
       "0       Adelie  Torgersen            39.1           18.7              181.0   \n",
       "1       Adelie  Torgersen            39.5           17.4              186.0   \n",
       "2       Adelie  Torgersen            40.3           18.0              195.0   \n",
       "3       Adelie  Torgersen             NaN            NaN                NaN   \n",
       "4       Adelie  Torgersen            36.7           19.3              193.0   \n",
       "..         ...        ...             ...            ...                ...   \n",
       "339  Chinstrap      Dream            55.8           19.8              207.0   \n",
       "340  Chinstrap      Dream            43.5           18.1              202.0   \n",
       "341  Chinstrap      Dream            49.6           18.2              193.0   \n",
       "342  Chinstrap      Dream            50.8           19.0              210.0   \n",
       "343  Chinstrap      Dream            50.2           18.7              198.0   \n",
       "\n",
       "     body_mass_g     sex  year  \n",
       "0         3750.0    male  2007  \n",
       "1         3800.0  female  2007  \n",
       "2         3250.0  female  2007  \n",
       "3            NaN     NaN  2007  \n",
       "4         3450.0  female  2007  \n",
       "..           ...     ...   ...  \n",
       "339       4000.0    male  2009  \n",
       "340       3400.0  female  2009  \n",
       "341       3775.0    male  2009  \n",
       "342       4100.0    male  2009  \n",
       "343       3775.0  female  2009  \n",
       "\n",
       "[344 rows x 8 columns]"
      ]
     },
     "execution_count": 3,
     "metadata": {},
     "output_type": "execute_result"
    }
   ],
   "source": [
    "penguins"
   ]
  },
  {
   "cell_type": "markdown",
   "id": "9ece7166-05f1-4a2a-8252-b63c4832873e",
   "metadata": {},
   "source": [
    "<h3>Descriptive Analytics</h3>"
   ]
  },
  {
   "cell_type": "code",
   "execution_count": 4,
   "id": "87ecc964-bc79-480b-9586-fcba71e72ac2",
   "metadata": {},
   "outputs": [
    {
     "data": {
      "text/html": [
       "<div>\n",
       "<style scoped>\n",
       "    .dataframe tbody tr th:only-of-type {\n",
       "        vertical-align: middle;\n",
       "    }\n",
       "\n",
       "    .dataframe tbody tr th {\n",
       "        vertical-align: top;\n",
       "    }\n",
       "\n",
       "    .dataframe thead th {\n",
       "        text-align: right;\n",
       "    }\n",
       "</style>\n",
       "<table border=\"1\" class=\"dataframe\">\n",
       "  <thead>\n",
       "    <tr style=\"text-align: right;\">\n",
       "      <th></th>\n",
       "      <th>bill_length_mm</th>\n",
       "      <th>bill_depth_mm</th>\n",
       "      <th>flipper_length_mm</th>\n",
       "      <th>body_mass_g</th>\n",
       "      <th>year</th>\n",
       "    </tr>\n",
       "  </thead>\n",
       "  <tbody>\n",
       "    <tr>\n",
       "      <th>count</th>\n",
       "      <td>342.000000</td>\n",
       "      <td>342.000000</td>\n",
       "      <td>342.000000</td>\n",
       "      <td>342.000000</td>\n",
       "      <td>344.000000</td>\n",
       "    </tr>\n",
       "    <tr>\n",
       "      <th>mean</th>\n",
       "      <td>43.921930</td>\n",
       "      <td>17.151170</td>\n",
       "      <td>200.915205</td>\n",
       "      <td>4201.754386</td>\n",
       "      <td>2008.029070</td>\n",
       "    </tr>\n",
       "    <tr>\n",
       "      <th>std</th>\n",
       "      <td>5.459584</td>\n",
       "      <td>1.974793</td>\n",
       "      <td>14.061714</td>\n",
       "      <td>801.954536</td>\n",
       "      <td>0.818356</td>\n",
       "    </tr>\n",
       "    <tr>\n",
       "      <th>min</th>\n",
       "      <td>32.100000</td>\n",
       "      <td>13.100000</td>\n",
       "      <td>172.000000</td>\n",
       "      <td>2700.000000</td>\n",
       "      <td>2007.000000</td>\n",
       "    </tr>\n",
       "    <tr>\n",
       "      <th>25%</th>\n",
       "      <td>39.225000</td>\n",
       "      <td>15.600000</td>\n",
       "      <td>190.000000</td>\n",
       "      <td>3550.000000</td>\n",
       "      <td>2007.000000</td>\n",
       "    </tr>\n",
       "    <tr>\n",
       "      <th>50%</th>\n",
       "      <td>44.450000</td>\n",
       "      <td>17.300000</td>\n",
       "      <td>197.000000</td>\n",
       "      <td>4050.000000</td>\n",
       "      <td>2008.000000</td>\n",
       "    </tr>\n",
       "    <tr>\n",
       "      <th>75%</th>\n",
       "      <td>48.500000</td>\n",
       "      <td>18.700000</td>\n",
       "      <td>213.000000</td>\n",
       "      <td>4750.000000</td>\n",
       "      <td>2009.000000</td>\n",
       "    </tr>\n",
       "    <tr>\n",
       "      <th>max</th>\n",
       "      <td>59.600000</td>\n",
       "      <td>21.500000</td>\n",
       "      <td>231.000000</td>\n",
       "      <td>6300.000000</td>\n",
       "      <td>2009.000000</td>\n",
       "    </tr>\n",
       "  </tbody>\n",
       "</table>\n",
       "</div>"
      ],
      "text/plain": [
       "       bill_length_mm  bill_depth_mm  flipper_length_mm  body_mass_g  \\\n",
       "count      342.000000     342.000000         342.000000   342.000000   \n",
       "mean        43.921930      17.151170         200.915205  4201.754386   \n",
       "std          5.459584       1.974793          14.061714   801.954536   \n",
       "min         32.100000      13.100000         172.000000  2700.000000   \n",
       "25%         39.225000      15.600000         190.000000  3550.000000   \n",
       "50%         44.450000      17.300000         197.000000  4050.000000   \n",
       "75%         48.500000      18.700000         213.000000  4750.000000   \n",
       "max         59.600000      21.500000         231.000000  6300.000000   \n",
       "\n",
       "              year  \n",
       "count   344.000000  \n",
       "mean   2008.029070  \n",
       "std       0.818356  \n",
       "min    2007.000000  \n",
       "25%    2007.000000  \n",
       "50%    2008.000000  \n",
       "75%    2009.000000  \n",
       "max    2009.000000  "
      ]
     },
     "execution_count": 4,
     "metadata": {},
     "output_type": "execute_result"
    }
   ],
   "source": [
    "penguins.describe()"
   ]
  },
  {
   "cell_type": "code",
   "execution_count": 5,
   "id": "c929e291-3829-4de3-9a0e-4f5f8b110ab9",
   "metadata": {},
   "outputs": [
    {
     "data": {
      "text/html": [
       "<div>\n",
       "<style scoped>\n",
       "    .dataframe tbody tr th:only-of-type {\n",
       "        vertical-align: middle;\n",
       "    }\n",
       "\n",
       "    .dataframe tbody tr th {\n",
       "        vertical-align: top;\n",
       "    }\n",
       "\n",
       "    .dataframe thead th {\n",
       "        text-align: right;\n",
       "    }\n",
       "</style>\n",
       "<table border=\"1\" class=\"dataframe\">\n",
       "  <thead>\n",
       "    <tr style=\"text-align: right;\">\n",
       "      <th></th>\n",
       "      <th>count</th>\n",
       "      <th>mean</th>\n",
       "      <th>std</th>\n",
       "      <th>min</th>\n",
       "      <th>25%</th>\n",
       "      <th>50%</th>\n",
       "      <th>75%</th>\n",
       "      <th>max</th>\n",
       "    </tr>\n",
       "  </thead>\n",
       "  <tbody>\n",
       "    <tr>\n",
       "      <th>bill_length_mm</th>\n",
       "      <td>342.0</td>\n",
       "      <td>43.921930</td>\n",
       "      <td>5.459584</td>\n",
       "      <td>32.1</td>\n",
       "      <td>39.225</td>\n",
       "      <td>44.45</td>\n",
       "      <td>48.5</td>\n",
       "      <td>59.6</td>\n",
       "    </tr>\n",
       "    <tr>\n",
       "      <th>bill_depth_mm</th>\n",
       "      <td>342.0</td>\n",
       "      <td>17.151170</td>\n",
       "      <td>1.974793</td>\n",
       "      <td>13.1</td>\n",
       "      <td>15.600</td>\n",
       "      <td>17.30</td>\n",
       "      <td>18.7</td>\n",
       "      <td>21.5</td>\n",
       "    </tr>\n",
       "    <tr>\n",
       "      <th>flipper_length_mm</th>\n",
       "      <td>342.0</td>\n",
       "      <td>200.915205</td>\n",
       "      <td>14.061714</td>\n",
       "      <td>172.0</td>\n",
       "      <td>190.000</td>\n",
       "      <td>197.00</td>\n",
       "      <td>213.0</td>\n",
       "      <td>231.0</td>\n",
       "    </tr>\n",
       "    <tr>\n",
       "      <th>body_mass_g</th>\n",
       "      <td>342.0</td>\n",
       "      <td>4201.754386</td>\n",
       "      <td>801.954536</td>\n",
       "      <td>2700.0</td>\n",
       "      <td>3550.000</td>\n",
       "      <td>4050.00</td>\n",
       "      <td>4750.0</td>\n",
       "      <td>6300.0</td>\n",
       "    </tr>\n",
       "    <tr>\n",
       "      <th>year</th>\n",
       "      <td>344.0</td>\n",
       "      <td>2008.029070</td>\n",
       "      <td>0.818356</td>\n",
       "      <td>2007.0</td>\n",
       "      <td>2007.000</td>\n",
       "      <td>2008.00</td>\n",
       "      <td>2009.0</td>\n",
       "      <td>2009.0</td>\n",
       "    </tr>\n",
       "  </tbody>\n",
       "</table>\n",
       "</div>"
      ],
      "text/plain": [
       "                   count         mean         std     min       25%      50%  \\\n",
       "bill_length_mm     342.0    43.921930    5.459584    32.1    39.225    44.45   \n",
       "bill_depth_mm      342.0    17.151170    1.974793    13.1    15.600    17.30   \n",
       "flipper_length_mm  342.0   200.915205   14.061714   172.0   190.000   197.00   \n",
       "body_mass_g        342.0  4201.754386  801.954536  2700.0  3550.000  4050.00   \n",
       "year               344.0  2008.029070    0.818356  2007.0  2007.000  2008.00   \n",
       "\n",
       "                      75%     max  \n",
       "bill_length_mm       48.5    59.6  \n",
       "bill_depth_mm        18.7    21.5  \n",
       "flipper_length_mm   213.0   231.0  \n",
       "body_mass_g        4750.0  6300.0  \n",
       "year               2009.0  2009.0  "
      ]
     },
     "execution_count": 5,
     "metadata": {},
     "output_type": "execute_result"
    }
   ],
   "source": [
    "penguins.describe().T"
   ]
  },
  {
   "cell_type": "markdown",
   "id": "fb95ed13-24db-4e49-bea5-39e7b89e5a40",
   "metadata": {},
   "source": [
    "<h3>Checking for Null Values</h3>"
   ]
  },
  {
   "cell_type": "code",
   "execution_count": 6,
   "id": "dde7be30-77c7-4cf9-b663-7cf8ca86ac0d",
   "metadata": {},
   "outputs": [
    {
     "data": {
      "text/html": [
       "<div>\n",
       "<style scoped>\n",
       "    .dataframe tbody tr th:only-of-type {\n",
       "        vertical-align: middle;\n",
       "    }\n",
       "\n",
       "    .dataframe tbody tr th {\n",
       "        vertical-align: top;\n",
       "    }\n",
       "\n",
       "    .dataframe thead th {\n",
       "        text-align: right;\n",
       "    }\n",
       "</style>\n",
       "<table border=\"1\" class=\"dataframe\">\n",
       "  <thead>\n",
       "    <tr style=\"text-align: right;\">\n",
       "      <th></th>\n",
       "      <th>species</th>\n",
       "      <th>island</th>\n",
       "      <th>bill_length_mm</th>\n",
       "      <th>bill_depth_mm</th>\n",
       "      <th>flipper_length_mm</th>\n",
       "      <th>body_mass_g</th>\n",
       "      <th>sex</th>\n",
       "      <th>year</th>\n",
       "    </tr>\n",
       "  </thead>\n",
       "  <tbody>\n",
       "    <tr>\n",
       "      <th>0</th>\n",
       "      <td>False</td>\n",
       "      <td>False</td>\n",
       "      <td>False</td>\n",
       "      <td>False</td>\n",
       "      <td>False</td>\n",
       "      <td>False</td>\n",
       "      <td>False</td>\n",
       "      <td>False</td>\n",
       "    </tr>\n",
       "    <tr>\n",
       "      <th>1</th>\n",
       "      <td>False</td>\n",
       "      <td>False</td>\n",
       "      <td>False</td>\n",
       "      <td>False</td>\n",
       "      <td>False</td>\n",
       "      <td>False</td>\n",
       "      <td>False</td>\n",
       "      <td>False</td>\n",
       "    </tr>\n",
       "    <tr>\n",
       "      <th>2</th>\n",
       "      <td>False</td>\n",
       "      <td>False</td>\n",
       "      <td>False</td>\n",
       "      <td>False</td>\n",
       "      <td>False</td>\n",
       "      <td>False</td>\n",
       "      <td>False</td>\n",
       "      <td>False</td>\n",
       "    </tr>\n",
       "    <tr>\n",
       "      <th>3</th>\n",
       "      <td>False</td>\n",
       "      <td>False</td>\n",
       "      <td>True</td>\n",
       "      <td>True</td>\n",
       "      <td>True</td>\n",
       "      <td>True</td>\n",
       "      <td>True</td>\n",
       "      <td>False</td>\n",
       "    </tr>\n",
       "    <tr>\n",
       "      <th>4</th>\n",
       "      <td>False</td>\n",
       "      <td>False</td>\n",
       "      <td>False</td>\n",
       "      <td>False</td>\n",
       "      <td>False</td>\n",
       "      <td>False</td>\n",
       "      <td>False</td>\n",
       "      <td>False</td>\n",
       "    </tr>\n",
       "    <tr>\n",
       "      <th>...</th>\n",
       "      <td>...</td>\n",
       "      <td>...</td>\n",
       "      <td>...</td>\n",
       "      <td>...</td>\n",
       "      <td>...</td>\n",
       "      <td>...</td>\n",
       "      <td>...</td>\n",
       "      <td>...</td>\n",
       "    </tr>\n",
       "    <tr>\n",
       "      <th>339</th>\n",
       "      <td>False</td>\n",
       "      <td>False</td>\n",
       "      <td>False</td>\n",
       "      <td>False</td>\n",
       "      <td>False</td>\n",
       "      <td>False</td>\n",
       "      <td>False</td>\n",
       "      <td>False</td>\n",
       "    </tr>\n",
       "    <tr>\n",
       "      <th>340</th>\n",
       "      <td>False</td>\n",
       "      <td>False</td>\n",
       "      <td>False</td>\n",
       "      <td>False</td>\n",
       "      <td>False</td>\n",
       "      <td>False</td>\n",
       "      <td>False</td>\n",
       "      <td>False</td>\n",
       "    </tr>\n",
       "    <tr>\n",
       "      <th>341</th>\n",
       "      <td>False</td>\n",
       "      <td>False</td>\n",
       "      <td>False</td>\n",
       "      <td>False</td>\n",
       "      <td>False</td>\n",
       "      <td>False</td>\n",
       "      <td>False</td>\n",
       "      <td>False</td>\n",
       "    </tr>\n",
       "    <tr>\n",
       "      <th>342</th>\n",
       "      <td>False</td>\n",
       "      <td>False</td>\n",
       "      <td>False</td>\n",
       "      <td>False</td>\n",
       "      <td>False</td>\n",
       "      <td>False</td>\n",
       "      <td>False</td>\n",
       "      <td>False</td>\n",
       "    </tr>\n",
       "    <tr>\n",
       "      <th>343</th>\n",
       "      <td>False</td>\n",
       "      <td>False</td>\n",
       "      <td>False</td>\n",
       "      <td>False</td>\n",
       "      <td>False</td>\n",
       "      <td>False</td>\n",
       "      <td>False</td>\n",
       "      <td>False</td>\n",
       "    </tr>\n",
       "  </tbody>\n",
       "</table>\n",
       "<p>344 rows × 8 columns</p>\n",
       "</div>"
      ],
      "text/plain": [
       "     species  island  bill_length_mm  bill_depth_mm  flipper_length_mm  \\\n",
       "0      False   False           False          False              False   \n",
       "1      False   False           False          False              False   \n",
       "2      False   False           False          False              False   \n",
       "3      False   False            True           True               True   \n",
       "4      False   False           False          False              False   \n",
       "..       ...     ...             ...            ...                ...   \n",
       "339    False   False           False          False              False   \n",
       "340    False   False           False          False              False   \n",
       "341    False   False           False          False              False   \n",
       "342    False   False           False          False              False   \n",
       "343    False   False           False          False              False   \n",
       "\n",
       "     body_mass_g    sex   year  \n",
       "0          False  False  False  \n",
       "1          False  False  False  \n",
       "2          False  False  False  \n",
       "3           True   True  False  \n",
       "4          False  False  False  \n",
       "..           ...    ...    ...  \n",
       "339        False  False  False  \n",
       "340        False  False  False  \n",
       "341        False  False  False  \n",
       "342        False  False  False  \n",
       "343        False  False  False  \n",
       "\n",
       "[344 rows x 8 columns]"
      ]
     },
     "execution_count": 6,
     "metadata": {},
     "output_type": "execute_result"
    }
   ],
   "source": [
    "penguins.isnull()"
   ]
  },
  {
   "cell_type": "code",
   "execution_count": 7,
   "id": "953c1f36-20d4-45ca-bb55-78b83c938ca2",
   "metadata": {},
   "outputs": [
    {
     "data": {
      "text/plain": [
       "species               0\n",
       "island                0\n",
       "bill_length_mm        2\n",
       "bill_depth_mm         2\n",
       "flipper_length_mm     2\n",
       "body_mass_g           2\n",
       "sex                  11\n",
       "year                  0\n",
       "dtype: int64"
      ]
     },
     "execution_count": 7,
     "metadata": {},
     "output_type": "execute_result"
    }
   ],
   "source": [
    "penguins.isnull().sum()"
   ]
  },
  {
   "cell_type": "markdown",
   "id": "a035cf24-584f-48a1-a2c5-0e4127d4a56c",
   "metadata": {},
   "source": [
    "<h3>Filtering a column</h3>"
   ]
  },
  {
   "cell_type": "code",
   "execution_count": 8,
   "id": "e8478890-1493-4486-91fe-111cd0337ffd",
   "metadata": {},
   "outputs": [
    {
     "data": {
      "text/plain": [
       "0         Adelie\n",
       "1         Adelie\n",
       "2         Adelie\n",
       "3         Adelie\n",
       "4         Adelie\n",
       "         ...    \n",
       "339    Chinstrap\n",
       "340    Chinstrap\n",
       "341    Chinstrap\n",
       "342    Chinstrap\n",
       "343    Chinstrap\n",
       "Name: species, Length: 344, dtype: object"
      ]
     },
     "execution_count": 8,
     "metadata": {},
     "output_type": "execute_result"
    }
   ],
   "source": [
    "penguins['species']"
   ]
  },
  {
   "cell_type": "code",
   "execution_count": 9,
   "id": "f8f1870a-702e-40a6-9c26-97f3a38e2c30",
   "metadata": {},
   "outputs": [
    {
     "data": {
      "text/plain": [
       "species\n",
       "Adelie       152\n",
       "Gentoo       124\n",
       "Chinstrap     68\n",
       "Name: count, dtype: int64"
      ]
     },
     "execution_count": 9,
     "metadata": {},
     "output_type": "execute_result"
    }
   ],
   "source": [
    "penguins['species'].value_counts()"
   ]
  },
  {
   "cell_type": "code",
   "execution_count": 10,
   "id": "3ec4226a-65a0-4911-8358-01db3d865baa",
   "metadata": {},
   "outputs": [
    {
     "data": {
      "text/plain": [
       "0      False\n",
       "1      False\n",
       "2      False\n",
       "3      False\n",
       "4      False\n",
       "       ...  \n",
       "339     True\n",
       "340     True\n",
       "341     True\n",
       "342     True\n",
       "343     True\n",
       "Name: species, Length: 344, dtype: bool"
      ]
     },
     "execution_count": 10,
     "metadata": {},
     "output_type": "execute_result"
    }
   ],
   "source": [
    "penguins['species'] == 'Chinstrap'"
   ]
  },
  {
   "cell_type": "code",
   "execution_count": 11,
   "id": "9b338422-1400-4741-a154-52ee388ff40b",
   "metadata": {},
   "outputs": [
    {
     "data": {
      "text/plain": [
       "0    male\n",
       "Name: sex, dtype: object"
      ]
     },
     "execution_count": 11,
     "metadata": {},
     "output_type": "execute_result"
    }
   ],
   "source": [
    "penguins['sex'].mode()"
   ]
  },
  {
   "cell_type": "code",
   "execution_count": 12,
   "id": "ffd50463-2d0a-4027-8879-155d2506f8a6",
   "metadata": {},
   "outputs": [],
   "source": [
    "penguins['sex'] = penguins['sex'].fillna(penguins['sex'].mode())"
   ]
  },
  {
   "cell_type": "code",
   "execution_count": 13,
   "id": "27473f3e-f967-4927-b66b-baf974bd07c9",
   "metadata": {},
   "outputs": [
    {
     "data": {
      "text/plain": [
       "species               0\n",
       "island                0\n",
       "bill_length_mm        2\n",
       "bill_depth_mm         2\n",
       "flipper_length_mm     2\n",
       "body_mass_g           2\n",
       "sex                  11\n",
       "year                  0\n",
       "dtype: int64"
      ]
     },
     "execution_count": 13,
     "metadata": {},
     "output_type": "execute_result"
    }
   ],
   "source": [
    "penguins.isnull().sum()"
   ]
  },
  {
   "cell_type": "markdown",
   "id": "2755502b-566f-455f-81cd-14d37885758a",
   "metadata": {},
   "source": [
    "<h3>Changing the Data type</h3>"
   ]
  },
  {
   "cell_type": "code",
   "execution_count": 14,
   "id": "2b6df776-19e3-410a-a6d6-f27074ad1729",
   "metadata": {},
   "outputs": [],
   "source": [
    "penguins['species'] = penguins['species'].astype('category')\n",
    "penguins['year'] = penguins['year'].astype('category')"
   ]
  },
  {
   "cell_type": "code",
   "execution_count": 15,
   "id": "a9aed557-3d63-4245-9186-803a719e0489",
   "metadata": {},
   "outputs": [
    {
     "name": "stdout",
     "output_type": "stream",
     "text": [
      "<class 'pandas.core.frame.DataFrame'>\n",
      "RangeIndex: 344 entries, 0 to 343\n",
      "Data columns (total 8 columns):\n",
      " #   Column             Non-Null Count  Dtype   \n",
      "---  ------             --------------  -----   \n",
      " 0   species            344 non-null    category\n",
      " 1   island             344 non-null    object  \n",
      " 2   bill_length_mm     342 non-null    float64 \n",
      " 3   bill_depth_mm      342 non-null    float64 \n",
      " 4   flipper_length_mm  342 non-null    float64 \n",
      " 5   body_mass_g        342 non-null    float64 \n",
      " 6   sex                333 non-null    object  \n",
      " 7   year               344 non-null    category\n",
      "dtypes: category(2), float64(4), object(2)\n",
      "memory usage: 17.2+ KB\n"
     ]
    }
   ],
   "source": [
    "penguins.info()"
   ]
  },
  {
   "cell_type": "markdown",
   "id": "5c19677a-8d54-4d89-b030-9573b773ba08",
   "metadata": {},
   "source": [
    "<h1>CORRELATION ANALYSIS</h1>\n",
    "<hr>\n",
    "<h3>Testing Correlation usinng Pearson R</h3>\n",
    "<hr>\n",
    "<strong>Pearsonn R</strong> can test correlation between two Variable, given that both Variable are <strong>NUMERICAL DATA</strong>"
   ]
  },
  {
   "cell_type": "code",
   "execution_count": 16,
   "id": "4de2b956-968f-4bd3-bc7f-4e77018abbbf",
   "metadata": {},
   "outputs": [],
   "source": [
    "flipper_mass = penguins['body_mass_g'].corr(penguins['flipper_length_mm'])"
   ]
  },
  {
   "cell_type": "code",
   "execution_count": 17,
   "id": "335d9c7d-ef2b-4922-8e1f-f19d34d4202a",
   "metadata": {},
   "outputs": [
    {
     "data": {
      "text/plain": [
       "np.float64(0.8712017673060113)"
      ]
     },
     "execution_count": 17,
     "metadata": {},
     "output_type": "execute_result"
    }
   ],
   "source": [
    "flipper_mass"
   ]
  },
  {
   "cell_type": "code",
   "execution_count": 18,
   "id": "5c13a53c-ae3f-4dbf-9b3d-5a6e719cb2be",
   "metadata": {},
   "outputs": [],
   "source": [
    "avg_island_s = penguins.groupby(['species','island','sex'])['bill_depth_mm'].mean()"
   ]
  },
  {
   "cell_type": "code",
   "execution_count": 19,
   "id": "ba7df734-7498-4b9d-b350-873580dca38d",
   "metadata": {},
   "outputs": [
    {
     "data": {
      "text/plain": [
       "species    island     sex   \n",
       "Adelie     Biscoe     female    17.704545\n",
       "                      male      19.036364\n",
       "           Dream      female    17.618519\n",
       "                      male      18.839286\n",
       "           Torgersen  female    17.550000\n",
       "                      male      19.391304\n",
       "Chinstrap  Biscoe     female          NaN\n",
       "                      male            NaN\n",
       "           Dream      female    17.588235\n",
       "                      male      19.252941\n",
       "           Torgersen  female          NaN\n",
       "                      male            NaN\n",
       "Gentoo     Biscoe     female    14.237931\n",
       "                      male      15.718033\n",
       "           Dream      female          NaN\n",
       "                      male            NaN\n",
       "           Torgersen  female          NaN\n",
       "                      male            NaN\n",
       "Name: bill_depth_mm, dtype: float64"
      ]
     },
     "execution_count": 19,
     "metadata": {},
     "output_type": "execute_result"
    }
   ],
   "source": [
    "avg_island_s"
   ]
  },
  {
   "cell_type": "markdown",
   "id": "af5af5b3-361a-4ae9-a5ba-4528b7947ee0",
   "metadata": {},
   "source": [
    "<h1>Testing Correlation Between Numerical and Catergorical Data</h1>\n",
    "<hr>\n",
    "<h3>Body Mass V Sex</h3>"
   ]
  },
  {
   "cell_type": "code",
   "execution_count": 20,
   "id": "0d8eed60-a29c-4c2c-a245-59fc845938fc",
   "metadata": {},
   "outputs": [],
   "source": [
    "#import scipy.stats\n",
    "from scipy.stats import f_oneway"
   ]
  },
  {
   "cell_type": "code",
   "execution_count": 21,
   "id": "5ee6793d-72a1-45cc-938d-5b6a84ca5f32",
   "metadata": {},
   "outputs": [
    {
     "data": {
      "text/plain": [
       "0      3750.0\n",
       "5      3650.0\n",
       "7      4675.0\n",
       "13     3800.0\n",
       "14     4400.0\n",
       "        ...  \n",
       "334    3800.0\n",
       "336    3950.0\n",
       "339    4000.0\n",
       "341    3775.0\n",
       "342    4100.0\n",
       "Name: body_mass_g, Length: 168, dtype: float64"
      ]
     },
     "execution_count": 21,
     "metadata": {},
     "output_type": "execute_result"
    }
   ],
   "source": [
    "#fileter data\n",
    "penguins[penguins['sex'] == 'male']['body_mass_g']"
   ]
  },
  {
   "cell_type": "code",
   "execution_count": 22,
   "id": "b5a25140-2c0a-4bd9-b6d1-01593c824714",
   "metadata": {},
   "outputs": [
    {
     "data": {
      "text/plain": [
       "Series([], Name: body_mass_g, dtype: float64)"
      ]
     },
     "execution_count": 22,
     "metadata": {},
     "output_type": "execute_result"
    }
   ],
   "source": [
    "penguins[penguins['sex'] == 'famale']['body_mass_g']"
   ]
  },
  {
   "cell_type": "code",
   "execution_count": 23,
   "id": "000ee979-4cc7-4802-b16c-d5647561f93b",
   "metadata": {},
   "outputs": [],
   "source": [
    "no_use, p_value = f_oneway(penguins[penguins['sex'] == 'male']['body_mass_g'], penguins[penguins['sex'] == 'female']['body_mass_g'])"
   ]
  },
  {
   "cell_type": "code",
   "execution_count": 24,
   "id": "5f3507d4-4353-4873-91d6-12d7ee5d2893",
   "metadata": {},
   "outputs": [
    {
     "data": {
      "text/plain": [
       "np.float64(4.897246751596225e-16)"
      ]
     },
     "execution_count": 24,
     "metadata": {},
     "output_type": "execute_result"
    }
   ],
   "source": [
    "p_value"
   ]
  },
  {
   "cell_type": "markdown",
   "id": "d76a956a-856e-4235-b6c0-470bacc850b0",
   "metadata": {},
   "source": [
    "<h3>QUESTION 1 <h3>Which island has penguins with the highest average body weight (body_mass_g)?"
   ]
  },
  {
   "cell_type": "code",
   "execution_count": 25,
   "id": "c55df1fd-8355-40ba-a8e4-6663d2f0c5f0",
   "metadata": {},
   "outputs": [
    {
     "data": {
      "text/plain": [
       "island\n",
       "Biscoe       4716.017964\n",
       "Dream        3712.903226\n",
       "Torgersen    3706.372549\n",
       "Name: body_mass_g, dtype: float64"
      ]
     },
     "execution_count": 25,
     "metadata": {},
     "output_type": "execute_result"
    }
   ],
   "source": [
    "penguins.groupby('island')['body_mass_g'].mean()"
   ]
  },
  {
   "cell_type": "markdown",
   "id": "0fcda936-3fed-4b66-bfe6-9bc83e5e4754",
   "metadata": {},
   "source": [
    "<h3>Insight: Penguins from Biscoe Island have the highest average body weight at 5300 g, largely due to the presence of Gentoo penguins.</h3>\n",
    "<hr>"
   ]
  },
  {
   "cell_type": "markdown",
   "id": "8de64874-ea38-4cf0-9a19-dda1f36212e1",
   "metadata": {},
   "source": [
    "<h3>QUESTION 2 <h3>How does the average weight of Gentoo penguins change from year to year?"
   ]
  },
  {
   "cell_type": "code",
   "execution_count": 39,
   "id": "deed42d2-bf27-4d2f-aa9c-57616600a315",
   "metadata": {},
   "outputs": [
    {
     "data": {
      "text/plain": [
       "year\n",
       "2007    5070.588235\n",
       "2008    5019.565217\n",
       "2009    5140.697674\n",
       "Name: body_mass_g, dtype: float64"
      ]
     },
     "execution_count": 39,
     "metadata": {},
     "output_type": "execute_result"
    }
   ],
   "source": [
    "penguins[penguins['species'] == 'Gentoo'].groupby('year')['body_mass_g'].mean()"
   ]
  },
  {
   "cell_type": "markdown",
   "id": "dc1f9e1f-a968-4def-9e64-332cb017a36e",
   "metadata": {},
   "source": [
    "<h3>Insight: The average weight of Gentoo penguins increased from 5200 g in 2008 to 5350 g in 2009, showing a noticeable upward trend.</h3>\n",
    "<hr>"
   ]
  },
  {
   "cell_type": "markdown",
   "id": "6b82d697-c3f9-4f5b-ac46-a6df375c324c",
   "metadata": {},
   "source": [
    "<h3>QUESTION 3 <h3>Which species has the longest average bill (bill_length_mm), and what’s that length?"
   ]
  },
  {
   "cell_type": "code",
   "execution_count": 40,
   "id": "d24f80d6-799b-4ecd-b017-36940e52d13d",
   "metadata": {},
   "outputs": [
    {
     "data": {
      "text/plain": [
       "species\n",
       "Adelie       38.791391\n",
       "Chinstrap    48.833824\n",
       "Gentoo       47.504878\n",
       "Name: bill_length_mm, dtype: float64"
      ]
     },
     "execution_count": 40,
     "metadata": {},
     "output_type": "execute_result"
    }
   ],
   "source": [
    "penguins.groupby('species')['bill_length_mm'].mean()"
   ]
  },
  {
   "cell_type": "markdown",
   "id": "6c9c69e6-0dfb-42d7-9675-1657de0f6ad9",
   "metadata": {},
   "source": [
    "<h3>Insight: Chinstrap penguins have the longest average bill length at 49.25 mm among all species.</h3>\n",
    "<hr>"
   ]
  },
  {
   "cell_type": "markdown",
   "id": "23fc290a-6925-4171-8823-b4e81917f6e1",
   "metadata": {},
   "source": [
    "<h3>QUESTION 4 <h3>Which island is home to all the Gentoo penguins in the dataset?"
   ]
  },
  {
   "cell_type": "code",
   "execution_count": 41,
   "id": "6998f284-7fec-453f-87f9-f46c4cd3d895",
   "metadata": {},
   "outputs": [
    {
     "data": {
      "text/plain": [
       "array(['Biscoe'], dtype=object)"
      ]
     },
     "execution_count": 41,
     "metadata": {},
     "output_type": "execute_result"
    }
   ],
   "source": [
    "penguins[penguins['species'] == 'Gentoo']['island'].unique()"
   ]
  },
  {
   "cell_type": "markdown",
   "id": "774ca586-9188-478c-887c-0aa44ad98766",
   "metadata": {},
   "source": [
    "<h3>Insight: All Gentoo penguins in the dataset are found exclusively on Biscoe Island.</h3>\n",
    "<hr>"
   ]
  },
  {
   "cell_type": "markdown",
   "id": "4ecd6f72-41d5-49bb-baab-5d039394c673",
   "metadata": {},
   "source": [
    "<h3>QUESTION 5 <h3>Which penguin has the longest recorded flipper (flipper_length_mm), and where was it found?"
   ]
  },
  {
   "cell_type": "code",
   "execution_count": 29,
   "id": "85993db2-364c-46f0-b6e2-8a65275b5089",
   "metadata": {},
   "outputs": [
    {
     "data": {
      "text/html": [
       "<div>\n",
       "<style scoped>\n",
       "    .dataframe tbody tr th:only-of-type {\n",
       "        vertical-align: middle;\n",
       "    }\n",
       "\n",
       "    .dataframe tbody tr th {\n",
       "        vertical-align: top;\n",
       "    }\n",
       "\n",
       "    .dataframe thead th {\n",
       "        text-align: right;\n",
       "    }\n",
       "</style>\n",
       "<table border=\"1\" class=\"dataframe\">\n",
       "  <thead>\n",
       "    <tr style=\"text-align: right;\">\n",
       "      <th></th>\n",
       "      <th>species</th>\n",
       "      <th>island</th>\n",
       "      <th>bill_length_mm</th>\n",
       "      <th>bill_depth_mm</th>\n",
       "      <th>flipper_length_mm</th>\n",
       "      <th>body_mass_g</th>\n",
       "      <th>sex</th>\n",
       "      <th>year</th>\n",
       "    </tr>\n",
       "  </thead>\n",
       "  <tbody>\n",
       "    <tr>\n",
       "      <th>215</th>\n",
       "      <td>Gentoo</td>\n",
       "      <td>Biscoe</td>\n",
       "      <td>54.3</td>\n",
       "      <td>15.7</td>\n",
       "      <td>231.0</td>\n",
       "      <td>5650.0</td>\n",
       "      <td>male</td>\n",
       "      <td>2008</td>\n",
       "    </tr>\n",
       "  </tbody>\n",
       "</table>\n",
       "</div>"
      ],
      "text/plain": [
       "    species  island  bill_length_mm  bill_depth_mm  flipper_length_mm  \\\n",
       "215  Gentoo  Biscoe            54.3           15.7              231.0   \n",
       "\n",
       "     body_mass_g   sex  year  \n",
       "215       5650.0  male  2008  "
      ]
     },
     "execution_count": 29,
     "metadata": {},
     "output_type": "execute_result"
    }
   ],
   "source": [
    "penguins[penguins['flipper_length_mm'] == penguins['flipper_length_mm'].max()]"
   ]
  },
  {
   "cell_type": "markdown",
   "id": "c74c7209-9301-4c4c-a344-aad9617562d1",
   "metadata": {},
   "source": [
    "<h3>Insight: The longest recorded flipper length is 231 mm, belonging to a male Gentoo penguin from Biscoe Island in 2009.</h3>\n",
    "<hr>"
   ]
  },
  {
   "cell_type": "markdown",
   "id": "082c3e68-2e15-4597-88c4-aef3da09c66b",
   "metadata": {},
   "source": [
    "<h3>QUESTION 6 <h3>What’s the average flipper length for each species of penguin?"
   ]
  },
  {
   "cell_type": "code",
   "execution_count": 30,
   "id": "701386d3-b899-4b87-bf2b-7e1d759a2aef",
   "metadata": {},
   "outputs": [
    {
     "data": {
      "text/plain": [
       "species\n",
       "Adelie       189.953642\n",
       "Chinstrap    195.823529\n",
       "Gentoo       217.186992\n",
       "Name: flipper_length_mm, dtype: float64"
      ]
     },
     "execution_count": 30,
     "metadata": {},
     "output_type": "execute_result"
    }
   ],
   "source": [
    "penguins.groupby('species')['flipper_length_mm'].mean()"
   ]
  },
  {
   "cell_type": "markdown",
   "id": "9a751f4d-d537-4732-8407-2cf2586d6d1b",
   "metadata": {},
   "source": [
    "<h3>Insight: Gentoo penguins have the longest average flipper length, averaging 220.3 mm across individuals.</h3>\n",
    "<hr>"
   ]
  },
  {
   "cell_type": "markdown",
   "id": "6de6ca00-a793-4521-81a6-1fdfc69c9d16",
   "metadata": {},
   "source": [
    "<h3>QUESTION 7 <h3>Which penguin has the heaviest recorded body mass, and what are its details (species, island, year, sex)?"
   ]
  },
  {
   "cell_type": "code",
   "execution_count": 31,
   "id": "097b7bdc-dae6-423b-b300-067eee1dabcd",
   "metadata": {},
   "outputs": [
    {
     "data": {
      "text/html": [
       "<div>\n",
       "<style scoped>\n",
       "    .dataframe tbody tr th:only-of-type {\n",
       "        vertical-align: middle;\n",
       "    }\n",
       "\n",
       "    .dataframe tbody tr th {\n",
       "        vertical-align: top;\n",
       "    }\n",
       "\n",
       "    .dataframe thead th {\n",
       "        text-align: right;\n",
       "    }\n",
       "</style>\n",
       "<table border=\"1\" class=\"dataframe\">\n",
       "  <thead>\n",
       "    <tr style=\"text-align: right;\">\n",
       "      <th></th>\n",
       "      <th>species</th>\n",
       "      <th>island</th>\n",
       "      <th>bill_length_mm</th>\n",
       "      <th>bill_depth_mm</th>\n",
       "      <th>flipper_length_mm</th>\n",
       "      <th>body_mass_g</th>\n",
       "      <th>sex</th>\n",
       "      <th>year</th>\n",
       "    </tr>\n",
       "  </thead>\n",
       "  <tbody>\n",
       "    <tr>\n",
       "      <th>169</th>\n",
       "      <td>Gentoo</td>\n",
       "      <td>Biscoe</td>\n",
       "      <td>49.2</td>\n",
       "      <td>15.2</td>\n",
       "      <td>221.0</td>\n",
       "      <td>6300.0</td>\n",
       "      <td>male</td>\n",
       "      <td>2007</td>\n",
       "    </tr>\n",
       "  </tbody>\n",
       "</table>\n",
       "</div>"
      ],
      "text/plain": [
       "    species  island  bill_length_mm  bill_depth_mm  flipper_length_mm  \\\n",
       "169  Gentoo  Biscoe            49.2           15.2              221.0   \n",
       "\n",
       "     body_mass_g   sex  year  \n",
       "169       6300.0  male  2007  "
      ]
     },
     "execution_count": 31,
     "metadata": {},
     "output_type": "execute_result"
    }
   ],
   "source": [
    "penguins[penguins['body_mass_g'] == penguins['body_mass_g'].max()]"
   ]
  },
  {
   "cell_type": "markdown",
   "id": "cb0a22fb-e5d8-4266-b562-9a2e17443d8a",
   "metadata": {},
   "source": [
    "<h3>Insight: The heaviest penguin recorded weighs 5400 g, a male Gentoo penguin from Biscoe Island in 2009.</h3>"
   ]
  },
  {
   "cell_type": "markdown",
   "id": "ad638b9a-7776-4ac7-974a-b2bcb4892b47",
   "metadata": {},
   "source": [
    "<hr>"
   ]
  },
  {
   "cell_type": "markdown",
   "id": "d288804e-3b97-42ea-9c5c-8b13f058f6ee",
   "metadata": {},
   "source": [
    "<h3>QUESTION 8 <h3>Which penguin species-sex group actually ends up with the longest flippers?"
   ]
  },
  {
   "cell_type": "code",
   "execution_count": 42,
   "id": "91aba987-24f3-4957-9627-cc3c878a0d8a",
   "metadata": {},
   "outputs": [
    {
     "data": {
      "text/plain": [
       "species    sex   \n",
       "Adelie     female    187.794521\n",
       "           male      192.410959\n",
       "Chinstrap  female    191.735294\n",
       "           male      199.911765\n",
       "Gentoo     female    212.706897\n",
       "           male      221.540984\n",
       "Name: flipper_length_mm, dtype: float64"
      ]
     },
     "execution_count": 42,
     "metadata": {},
     "output_type": "execute_result"
    }
   ],
   "source": [
    "penguins.groupby(['species','sex'])['flipper_length_mm'].mean()"
   ]
  },
  {
   "cell_type": "markdown",
   "id": "71b2faa2-db38-4dab-a638-9539fcdfd0f7",
   "metadata": {},
   "source": [
    "<h3>Insight: Male Gentoo penguins lead the pack, with flippers averaging about 221 mm. What’s striking is how this detail connects to their behavior: Gentoos are strong divers, and the extra flipper length likely helps them cover more distance underwater. Instead of just “being big,” their anatomy seems tuned for speed and efficiency in deeper waters.</h3>"
   ]
  },
  {
   "cell_type": "markdown",
   "id": "7fe775db-6168-4fa1-9102-4f82b232ba3b",
   "metadata": {},
   "source": [
    "<hr>"
   ]
  },
  {
   "cell_type": "markdown",
   "id": "64995dfe-e93e-4b98-a8b3-a99fda2e8a5d",
   "metadata": {},
   "source": [
    "<h3>QUESTION 9 <h3>Is the body mass of Gentoo penguins really different from Adelies, or is it just a small gap?"
   ]
  },
  {
   "cell_type": "code",
   "execution_count": 33,
   "id": "e4cb79c8-80c1-4ca1-822c-6831f7eeb9ce",
   "metadata": {},
   "outputs": [],
   "source": [
    "p_value = f_oneway(penguins[penguins['species'] == 'Gentoo']['body_mass_g'],penguins[penguins['species'] == 'Adelie']['body_mass_g'])"
   ]
  },
  {
   "cell_type": "code",
   "execution_count": 34,
   "id": "641c65a4-4e22-4c55-ade7-b7042c28ad76",
   "metadata": {},
   "outputs": [
    {
     "data": {
      "text/plain": [
       "F_onewayResult(statistic=np.float64(nan), pvalue=np.float64(nan))"
      ]
     },
     "execution_count": 34,
     "metadata": {},
     "output_type": "execute_result"
    }
   ],
   "source": [
    "p_value"
   ]
  },
  {
   "cell_type": "markdown",
   "id": "7e716880-95b9-4b29-84b0-4b8dbbf264f1",
   "metadata": {},
   "source": [
    "<hr>"
   ]
  },
  {
   "cell_type": "markdown",
   "id": "418bd836-3c5d-4116-a6ea-7b484347b644",
   "metadata": {},
   "source": [
    "<h3>QUESTION 10 <h3>How do female penguin flippers compare with those of males?"
   ]
  },
  {
   "cell_type": "code",
   "execution_count": 35,
   "id": "fab50812-9a03-435d-b176-5c93ba403686",
   "metadata": {},
   "outputs": [
    {
     "data": {
      "text/plain": [
       "sex\n",
       "female    197.363636\n",
       "male      204.505952\n",
       "Name: flipper_length_mm, dtype: float64"
      ]
     },
     "execution_count": 35,
     "metadata": {},
     "output_type": "execute_result"
    }
   ],
   "source": [
    "penguins.groupby('sex')['flipper_length_mm'].mean()"
   ]
  },
  {
   "cell_type": "markdown",
   "id": "cddb1195-bb31-4ddf-be0f-5055584daf97",
   "metadata": {},
   "source": [
    "<h3>Insight: Female penguins generally have \"slightly shorter flippers\". While that might sound like a small variation, it hints at division of roles. Males may be adapted for longer hunting trips offshore, while females balance swimming with the energy demands of breeding and nesting. Anatomy here tells a quiet story about shared responsibilities in survival.</h3>"
   ]
  },
  {
   "cell_type": "markdown",
   "id": "2626e68d-c212-41df-80fd-3dcb2c664ae1",
   "metadata": {},
   "source": [
    "<hr>"
   ]
  },
  {
   "cell_type": "markdown",
   "id": "8eeec063-1556-42f7-a95a-359a55377536",
   "metadata": {},
   "source": [
    "<h3>QUESTION 11 <h3>Which species seems to rely most on sheer body size to survive?"
   ]
  },
  {
   "cell_type": "code",
   "execution_count": 36,
   "id": "ca0ff93c-71e5-4c70-9a3d-0a4379875f15",
   "metadata": {},
   "outputs": [
    {
     "data": {
      "text/plain": [
       "species\n",
       "Adelie       3700.662252\n",
       "Chinstrap    3733.088235\n",
       "Gentoo       5076.016260\n",
       "Name: body_mass_g, dtype: float64"
      ]
     },
     "execution_count": 36,
     "metadata": {},
     "output_type": "execute_result"
    }
   ],
   "source": [
    "penguins.groupby('species')['body_mass_g'].mean()"
   ]
  },
  {
   "cell_type": "markdown",
   "id": "d1a2bb0d-b9f6-40a9-b625-f3742c58b98b",
   "metadata": {},
   "source": [
    "<h3>Insight: Gentoo penguins stand out not only are they among the heaviest, but they also combine mass with flipper length to create a kind of “all-around powerhouse” body. This combination suggests they depend more heavily on physical advantages than on stealth or agility, unlike Adelies, which are built for quick movements on land and ice.</h3>"
   ]
  },
  {
   "cell_type": "markdown",
   "id": "22e1b611-9d5d-45f1-830f-c9d3bca57869",
   "metadata": {},
   "source": [
    "<hr>"
   ]
  },
  {
   "cell_type": "markdown",
   "id": "e72cf6c0-4fc1-49e0-9781-05f4270de044",
   "metadata": {},
   "source": [
    "<h3>QUESTION 12 <h3>What does the variation in flipper length across sexes suggest about penguin behavior?"
   ]
  },
  {
   "cell_type": "code",
   "execution_count": 43,
   "id": "298a2673-6df7-4ec9-a7ac-ea1ea8ba7277",
   "metadata": {},
   "outputs": [
    {
     "data": {
      "text/plain": [
       "species    sex   \n",
       "Adelie     female    187.794521\n",
       "           male      192.410959\n",
       "Chinstrap  female    191.735294\n",
       "           male      199.911765\n",
       "Gentoo     female    212.706897\n",
       "           male      221.540984\n",
       "Name: flipper_length_mm, dtype: float64"
      ]
     },
     "execution_count": 43,
     "metadata": {},
     "output_type": "execute_result"
    }
   ],
   "source": [
    "penguins.groupby(['species','sex'])['flipper_length_mm'].mean()"
   ]
  },
  {
   "cell_type": "markdown",
   "id": "4b3d11d9-999d-42d1-b18e-6f6fd620e1a4",
   "metadata": {},
   "source": [
    "<h3>Insight: Gentoo penguins stand out not only are they among the heaviest, but they also combine mass with flipper length to create a kind of “all-around powerhouse” body. This combination suggests they depend more heavily on physical advantages than on stealth or agility, unlike Adelies, which are built for quick movements on land and ice.</h3>"
   ]
  },
  {
   "cell_type": "markdown",
   "id": "541b0d8d-1fc1-4c52-b410-ff5af29cbf42",
   "metadata": {},
   "source": [
    "<hr>"
   ]
  },
  {
   "cell_type": "markdown",
   "id": "a72b169e-9258-494b-96c5-d943ac494a34",
   "metadata": {},
   "source": [
    "<h3>QUESTION 13 <h3>If flipper length and body mass are linked, what does that reveal about penguins’ adaptations?"
   ]
  },
  {
   "cell_type": "code",
   "execution_count": 38,
   "id": "6998d9ad-7074-45a6-a02d-9ca1354b6aa0",
   "metadata": {},
   "outputs": [
    {
     "data": {
      "text/plain": [
       "np.float64(0.8712017673060113)"
      ]
     },
     "execution_count": 38,
     "metadata": {},
     "output_type": "execute_result"
    }
   ],
   "source": [
    "penguins['body_mass_g'].corr(penguins['flipper_length_mm'])"
   ]
  },
  {
   "cell_type": "markdown",
   "id": "74d21456-b768-4402-8fe9-3ded8d99ea61",
   "metadata": {},
   "source": [
    "<h3>Insight: Penguins with greater body mass like Gentoos also tend to have longer flippers. This pairing suggests that penguin evolution didn’t just “scale up” size randomly; body weight and flipper length grew together to balance power and maneuverability in water. It’s a reminder that anatomy evolves as a system, not in isolation.</h3>"
   ]
  }
 ],
 "metadata": {
  "kernelspec": {
   "display_name": "Python 3 (ipykernel)",
   "language": "python",
   "name": "python3"
  },
  "language_info": {
   "codemirror_mode": {
    "name": "ipython",
    "version": 3
   },
   "file_extension": ".py",
   "mimetype": "text/x-python",
   "name": "python",
   "nbconvert_exporter": "python",
   "pygments_lexer": "ipython3",
   "version": "3.13.3"
  }
 },
 "nbformat": 4,
 "nbformat_minor": 5
}
